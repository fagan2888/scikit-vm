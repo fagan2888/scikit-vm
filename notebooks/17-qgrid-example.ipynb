{
 "cells": [
  {
   "cell_type": "markdown",
   "metadata": {},
   "source": [
    "# Example of using qrid to display dataframes"
   ]
  },
  {
   "cell_type": "code",
   "execution_count": 10,
   "metadata": {
    "ExecuteTime": {
     "end_time": "2019-10-05T17:10:46.346240Z",
     "start_time": "2019-10-05T17:10:46.342901Z"
    }
   },
   "outputs": [],
   "source": [
    "from faker import Faker\n",
    "import pandas as pd\n",
    "import random\n",
    "import qgrid"
   ]
  },
  {
   "cell_type": "code",
   "execution_count": 11,
   "metadata": {
    "ExecuteTime": {
     "end_time": "2019-10-05T17:10:46.673330Z",
     "start_time": "2019-10-05T17:10:46.616509Z"
    }
   },
   "outputs": [],
   "source": [
    "fake = Faker()\n",
    "\n",
    "def create_rows(num=1):\n",
    "    output = [{\"name\":fake.name(),\n",
    "               \"address\":fake.address(),\n",
    "               \"name\":fake.name(),\n",
    "               \"email\":fake.email(),\n",
    "               \"bs\":fake.bs(),\n",
    "               \"address\":fake.address(),\n",
    "               \"city\":fake.city(),\n",
    "               \"state\":fake.state(),\n",
    "               \"date_time\":fake.date_time(),\n",
    "               \"randomdata\":random.randint(1000,2000)} for x in range(num)]\n",
    "    return output"
   ]
  },
  {
   "cell_type": "code",
   "execution_count": 12,
   "metadata": {
    "ExecuteTime": {
     "end_time": "2019-10-05T17:10:47.457496Z",
     "start_time": "2019-10-05T17:10:46.845730Z"
    }
   },
   "outputs": [],
   "source": [
    "df = pd.DataFrame(create_rows(500))"
   ]
  },
  {
   "cell_type": "code",
   "execution_count": 13,
   "metadata": {
    "ExecuteTime": {
     "end_time": "2019-10-05T17:10:47.474337Z",
     "start_time": "2019-10-05T17:10:47.460737Z"
    }
   },
   "outputs": [
    {
     "data": {
      "text/html": [
       "<div>\n",
       "<style scoped>\n",
       "    .dataframe tbody tr th:only-of-type {\n",
       "        vertical-align: middle;\n",
       "    }\n",
       "\n",
       "    .dataframe tbody tr th {\n",
       "        vertical-align: top;\n",
       "    }\n",
       "\n",
       "    .dataframe thead th {\n",
       "        text-align: right;\n",
       "    }\n",
       "</style>\n",
       "<table border=\"1\" class=\"dataframe\">\n",
       "  <thead>\n",
       "    <tr style=\"text-align: right;\">\n",
       "      <th></th>\n",
       "      <th>name</th>\n",
       "      <th>address</th>\n",
       "      <th>email</th>\n",
       "      <th>bs</th>\n",
       "      <th>city</th>\n",
       "      <th>state</th>\n",
       "      <th>date_time</th>\n",
       "      <th>randomdata</th>\n",
       "    </tr>\n",
       "  </thead>\n",
       "  <tbody>\n",
       "    <tr>\n",
       "      <td>0</td>\n",
       "      <td>Amy Stewart</td>\n",
       "      <td>03977 Dennis Passage Suite 750\\nEast Matthew, ...</td>\n",
       "      <td>douglaswright@campbell.com</td>\n",
       "      <td>matrix transparent solutions</td>\n",
       "      <td>East Kimberlyburgh</td>\n",
       "      <td>South Dakota</td>\n",
       "      <td>2019-09-01 17:19:44</td>\n",
       "      <td>1776</td>\n",
       "    </tr>\n",
       "    <tr>\n",
       "      <td>1</td>\n",
       "      <td>Steven Myers</td>\n",
       "      <td>006 Mary Knolls\\nPort Victoria, WI 77186</td>\n",
       "      <td>mkelly@perry.com</td>\n",
       "      <td>orchestrate open-source partnerships</td>\n",
       "      <td>New Breanna</td>\n",
       "      <td>Montana</td>\n",
       "      <td>1990-02-11 15:35:32</td>\n",
       "      <td>1143</td>\n",
       "    </tr>\n",
       "    <tr>\n",
       "      <td>2</td>\n",
       "      <td>Zachary Huff</td>\n",
       "      <td>30816 Angela Lodge\\nMurphychester, NJ 42202</td>\n",
       "      <td>munozlisa@romero.com</td>\n",
       "      <td>envisioneer integrated infrastructures</td>\n",
       "      <td>Jordanville</td>\n",
       "      <td>Nebraska</td>\n",
       "      <td>1981-05-19 13:58:22</td>\n",
       "      <td>1947</td>\n",
       "    </tr>\n",
       "    <tr>\n",
       "      <td>3</td>\n",
       "      <td>Richard Payne</td>\n",
       "      <td>610 George Forge\\nBrianville, KS 69321</td>\n",
       "      <td>solischelsea@young.com</td>\n",
       "      <td>enable ubiquitous partnerships</td>\n",
       "      <td>Hodgeland</td>\n",
       "      <td>New Jersey</td>\n",
       "      <td>1970-02-04 18:39:35</td>\n",
       "      <td>1145</td>\n",
       "    </tr>\n",
       "    <tr>\n",
       "      <td>4</td>\n",
       "      <td>Harold Clark</td>\n",
       "      <td>9840 Taylor Well Suite 477\\nNataliechester, MD...</td>\n",
       "      <td>kelleymatthew@rice-davila.net</td>\n",
       "      <td>synergize vertical mindshare</td>\n",
       "      <td>New Danieltown</td>\n",
       "      <td>Minnesota</td>\n",
       "      <td>1979-09-02 07:03:47</td>\n",
       "      <td>1424</td>\n",
       "    </tr>\n",
       "  </tbody>\n",
       "</table>\n",
       "</div>"
      ],
      "text/plain": [
       "            name                                            address  \\\n",
       "0    Amy Stewart  03977 Dennis Passage Suite 750\\nEast Matthew, ...   \n",
       "1   Steven Myers           006 Mary Knolls\\nPort Victoria, WI 77186   \n",
       "2   Zachary Huff        30816 Angela Lodge\\nMurphychester, NJ 42202   \n",
       "3  Richard Payne             610 George Forge\\nBrianville, KS 69321   \n",
       "4   Harold Clark  9840 Taylor Well Suite 477\\nNataliechester, MD...   \n",
       "\n",
       "                           email                                      bs  \\\n",
       "0     douglaswright@campbell.com            matrix transparent solutions   \n",
       "1               mkelly@perry.com    orchestrate open-source partnerships   \n",
       "2           munozlisa@romero.com  envisioneer integrated infrastructures   \n",
       "3         solischelsea@young.com          enable ubiquitous partnerships   \n",
       "4  kelleymatthew@rice-davila.net            synergize vertical mindshare   \n",
       "\n",
       "                 city         state           date_time  randomdata  \n",
       "0  East Kimberlyburgh  South Dakota 2019-09-01 17:19:44        1776  \n",
       "1         New Breanna       Montana 1990-02-11 15:35:32        1143  \n",
       "2         Jordanville      Nebraska 1981-05-19 13:58:22        1947  \n",
       "3           Hodgeland    New Jersey 1970-02-04 18:39:35        1145  \n",
       "4      New Danieltown     Minnesota 1979-09-02 07:03:47        1424  "
      ]
     },
     "execution_count": 13,
     "metadata": {},
     "output_type": "execute_result"
    }
   ],
   "source": [
    "df.head()"
   ]
  },
  {
   "cell_type": "code",
   "execution_count": 14,
   "metadata": {
    "ExecuteTime": {
     "end_time": "2019-10-05T17:10:47.701095Z",
     "start_time": "2019-10-05T17:10:47.641268Z"
    }
   },
   "outputs": [
    {
     "data": {
      "application/vnd.jupyter.widget-view+json": {
       "model_id": "f0b4dceeec4c45ccacea7e6c79221fe4",
       "version_major": 2,
       "version_minor": 0
      },
      "text/plain": [
       "QgridWidget(grid_options={'fullWidthRows': True, 'syncColumnCellResize': True, 'forceFitColumns': True, 'defau…"
      ]
     },
     "metadata": {},
     "output_type": "display_data"
    }
   ],
   "source": [
    "qgrid.show_grid(df, show_toolbar=True)"
   ]
  },
  {
   "cell_type": "code",
   "execution_count": null,
   "metadata": {},
   "outputs": [],
   "source": []
  }
 ],
 "metadata": {
  "kernelspec": {
   "display_name": "Python 3",
   "language": "python",
   "name": "python3"
  },
  "language_info": {
   "codemirror_mode": {
    "name": "ipython",
    "version": 3
   },
   "file_extension": ".py",
   "mimetype": "text/x-python",
   "name": "python",
   "nbconvert_exporter": "python",
   "pygments_lexer": "ipython3",
   "version": "3.7.3"
  },
  "nteract": {
   "version": "nteract-on-jupyter@2.1.3"
  },
  "toc": {
   "base_numbering": 1,
   "nav_menu": {},
   "number_sections": true,
   "sideBar": true,
   "skip_h1_title": false,
   "title_cell": "Table of Contents",
   "title_sidebar": "Contents",
   "toc_cell": false,
   "toc_position": {},
   "toc_section_display": true,
   "toc_window_display": false
  }
 },
 "nbformat": 4,
 "nbformat_minor": 4
}
