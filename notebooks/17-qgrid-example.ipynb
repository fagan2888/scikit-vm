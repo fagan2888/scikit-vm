{
 "cells": [
  {
   "cell_type": "code",
   "execution_count": 9,
   "metadata": {
    "ExecuteTime": {
     "end_time": "2019-10-03T02:57:27.754209Z",
     "start_time": "2019-10-03T02:57:27.751266Z"
    }
   },
   "outputs": [],
   "source": [
    "from faker import Faker\n",
    "import pandas as pd\n",
    "import random\n",
    "import qgrid"
   ]
  },
  {
   "cell_type": "code",
   "execution_count": 10,
   "metadata": {
    "ExecuteTime": {
     "end_time": "2019-10-03T02:57:28.052004Z",
     "start_time": "2019-10-03T02:57:27.987657Z"
    }
   },
   "outputs": [],
   "source": [
    "fake = Faker()\n",
    "\n",
    "def create_rows(num=1):\n",
    "    output = [{\"name\":fake.name(),\n",
    "               \"address\":fake.address(),\n",
    "               \"name\":fake.name(),\n",
    "               \"email\":fake.email(),\n",
    "               \"bs\":fake.bs(),\n",
    "               \"address\":fake.address(),\n",
    "               \"city\":fake.city(),\n",
    "               \"state\":fake.state(),\n",
    "               \"date_time\":fake.date_time(),\n",
    "               \"paragraph\":fake.paragraph(),\n",
    "               \"Conrad\":fake.catch_phrase(),\n",
    "               \"randomdata\":random.randint(1000,2000)} for x in range(num)]\n",
    "    return output"
   ]
  },
  {
   "cell_type": "code",
   "execution_count": 11,
   "metadata": {
    "ExecuteTime": {
     "end_time": "2019-10-03T02:57:29.003887Z",
     "start_time": "2019-10-03T02:57:28.225649Z"
    }
   },
   "outputs": [],
   "source": [
    "df = pd.DataFrame(create_rows(500))"
   ]
  },
  {
   "cell_type": "code",
   "execution_count": 12,
   "metadata": {
    "ExecuteTime": {
     "end_time": "2019-10-03T02:57:29.025524Z",
     "start_time": "2019-10-03T02:57:29.006785Z"
    }
   },
   "outputs": [
    {
     "data": {
      "text/html": [
       "<div>\n",
       "<style scoped>\n",
       "    .dataframe tbody tr th:only-of-type {\n",
       "        vertical-align: middle;\n",
       "    }\n",
       "\n",
       "    .dataframe tbody tr th {\n",
       "        vertical-align: top;\n",
       "    }\n",
       "\n",
       "    .dataframe thead th {\n",
       "        text-align: right;\n",
       "    }\n",
       "</style>\n",
       "<table border=\"1\" class=\"dataframe\">\n",
       "  <thead>\n",
       "    <tr style=\"text-align: right;\">\n",
       "      <th></th>\n",
       "      <th>name</th>\n",
       "      <th>address</th>\n",
       "      <th>email</th>\n",
       "      <th>bs</th>\n",
       "      <th>city</th>\n",
       "      <th>state</th>\n",
       "      <th>date_time</th>\n",
       "      <th>paragraph</th>\n",
       "      <th>Conrad</th>\n",
       "      <th>randomdata</th>\n",
       "    </tr>\n",
       "  </thead>\n",
       "  <tbody>\n",
       "    <tr>\n",
       "      <td>0</td>\n",
       "      <td>Charles Hayes</td>\n",
       "      <td>6283 Robin Inlet\\nEast Chaseton, CA 54282</td>\n",
       "      <td>bowenbenjamin@gmail.com</td>\n",
       "      <td>reinvent dot-com communities</td>\n",
       "      <td>South Evan</td>\n",
       "      <td>Maryland</td>\n",
       "      <td>2005-11-21 20:01:58</td>\n",
       "      <td>Camera buy drug whatever. Fear material data s...</td>\n",
       "      <td>Streamlined fresh-thinking benchmark</td>\n",
       "      <td>1292</td>\n",
       "    </tr>\n",
       "    <tr>\n",
       "      <td>1</td>\n",
       "      <td>Corey Martinez</td>\n",
       "      <td>6826 Golden Falls\\nNorth Thomas, GA 90284</td>\n",
       "      <td>reyeslindsey@williams.biz</td>\n",
       "      <td>harness B2C niches</td>\n",
       "      <td>Jamesside</td>\n",
       "      <td>Kentucky</td>\n",
       "      <td>1989-01-21 08:00:20</td>\n",
       "      <td>Night environment lead arrive happen stand wor...</td>\n",
       "      <td>Innovative systematic pricing structure</td>\n",
       "      <td>1391</td>\n",
       "    </tr>\n",
       "    <tr>\n",
       "      <td>2</td>\n",
       "      <td>Margaret Roberts</td>\n",
       "      <td>2955 Cole Summit\\nAlanville, MT 06956</td>\n",
       "      <td>mathew98@yahoo.com</td>\n",
       "      <td>synergize virtual eyeballs</td>\n",
       "      <td>Justinberg</td>\n",
       "      <td>Indiana</td>\n",
       "      <td>1978-01-15 04:23:17</td>\n",
       "      <td>Because season end. Too success begin attorney.</td>\n",
       "      <td>Distributed 3rdgeneration open architecture</td>\n",
       "      <td>1918</td>\n",
       "    </tr>\n",
       "    <tr>\n",
       "      <td>3</td>\n",
       "      <td>Mary Rojas</td>\n",
       "      <td>20400 Amanda Brooks\\nManuelview, IA 70533</td>\n",
       "      <td>dereklopez@yahoo.com</td>\n",
       "      <td>innovate transparent partnerships</td>\n",
       "      <td>Port Rita</td>\n",
       "      <td>Arizona</td>\n",
       "      <td>1983-05-01 10:30:39</td>\n",
       "      <td>Pass surface term worker there impact word. Oc...</td>\n",
       "      <td>Total grid-enabled application</td>\n",
       "      <td>1145</td>\n",
       "    </tr>\n",
       "    <tr>\n",
       "      <td>4</td>\n",
       "      <td>Sandra Gross</td>\n",
       "      <td>08311 Wise Gardens Suite 334\\nJacksonchester, ...</td>\n",
       "      <td>yturner@hotmail.com</td>\n",
       "      <td>integrate strategic systems</td>\n",
       "      <td>Anthonymouth</td>\n",
       "      <td>New Hampshire</td>\n",
       "      <td>2011-07-05 01:19:26</td>\n",
       "      <td>Enough in people town everyone good summer. Yo...</td>\n",
       "      <td>Seamless clear-thinking orchestration</td>\n",
       "      <td>1349</td>\n",
       "    </tr>\n",
       "  </tbody>\n",
       "</table>\n",
       "</div>"
      ],
      "text/plain": [
       "               name                                            address  \\\n",
       "0     Charles Hayes          6283 Robin Inlet\\nEast Chaseton, CA 54282   \n",
       "1    Corey Martinez          6826 Golden Falls\\nNorth Thomas, GA 90284   \n",
       "2  Margaret Roberts              2955 Cole Summit\\nAlanville, MT 06956   \n",
       "3        Mary Rojas          20400 Amanda Brooks\\nManuelview, IA 70533   \n",
       "4      Sandra Gross  08311 Wise Gardens Suite 334\\nJacksonchester, ...   \n",
       "\n",
       "                       email                                 bs          city  \\\n",
       "0    bowenbenjamin@gmail.com       reinvent dot-com communities    South Evan   \n",
       "1  reyeslindsey@williams.biz                 harness B2C niches     Jamesside   \n",
       "2         mathew98@yahoo.com         synergize virtual eyeballs    Justinberg   \n",
       "3       dereklopez@yahoo.com  innovate transparent partnerships     Port Rita   \n",
       "4        yturner@hotmail.com        integrate strategic systems  Anthonymouth   \n",
       "\n",
       "           state           date_time  \\\n",
       "0       Maryland 2005-11-21 20:01:58   \n",
       "1       Kentucky 1989-01-21 08:00:20   \n",
       "2        Indiana 1978-01-15 04:23:17   \n",
       "3        Arizona 1983-05-01 10:30:39   \n",
       "4  New Hampshire 2011-07-05 01:19:26   \n",
       "\n",
       "                                           paragraph  \\\n",
       "0  Camera buy drug whatever. Fear material data s...   \n",
       "1  Night environment lead arrive happen stand wor...   \n",
       "2    Because season end. Too success begin attorney.   \n",
       "3  Pass surface term worker there impact word. Oc...   \n",
       "4  Enough in people town everyone good summer. Yo...   \n",
       "\n",
       "                                        Conrad  randomdata  \n",
       "0         Streamlined fresh-thinking benchmark        1292  \n",
       "1      Innovative systematic pricing structure        1391  \n",
       "2  Distributed 3rdgeneration open architecture        1918  \n",
       "3               Total grid-enabled application        1145  \n",
       "4        Seamless clear-thinking orchestration        1349  "
      ]
     },
     "execution_count": 12,
     "metadata": {},
     "output_type": "execute_result"
    }
   ],
   "source": [
    "df.head()"
   ]
  },
  {
   "cell_type": "code",
   "execution_count": 14,
   "metadata": {
    "ExecuteTime": {
     "end_time": "2019-10-03T02:57:38.015824Z",
     "start_time": "2019-10-03T02:57:37.875256Z"
    }
   },
   "outputs": [
    {
     "data": {
      "application/vnd.jupyter.widget-view+json": {
       "model_id": "9380b29dca55419d8daceccb33517549",
       "version_major": 2,
       "version_minor": 0
      },
      "text/plain": [
       "QgridWidget(grid_options={'fullWidthRows': True, 'syncColumnCellResize': True, 'forceFitColumns': True, 'defau…"
      ]
     },
     "metadata": {},
     "output_type": "display_data"
    }
   ],
   "source": [
    "qgrid.show_grid(df, show_toolbar=True)"
   ]
  }
 ],
 "metadata": {
  "kernelspec": {
   "display_name": "Python 3",
   "language": "python",
   "name": "python3"
  },
  "language_info": {
   "codemirror_mode": {
    "name": "ipython",
    "version": 3
   },
   "file_extension": ".py",
   "mimetype": "text/x-python",
   "name": "python",
   "nbconvert_exporter": "python",
   "pygments_lexer": "ipython3",
   "version": "3.7.3"
  },
  "toc": {
   "base_numbering": 1,
   "nav_menu": {},
   "number_sections": true,
   "sideBar": true,
   "skip_h1_title": false,
   "title_cell": "Table of Contents",
   "title_sidebar": "Contents",
   "toc_cell": false,
   "toc_position": {},
   "toc_section_display": true,
   "toc_window_display": false
  }
 },
 "nbformat": 4,
 "nbformat_minor": 2
}
