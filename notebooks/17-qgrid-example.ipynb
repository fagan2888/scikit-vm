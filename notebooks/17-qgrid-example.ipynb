{
 "cells": [
  {
   "cell_type": "markdown",
   "metadata": {},
   "source": [
    "# Example of using qrid to display dataframes"
   ]
  },
  {
   "cell_type": "code",
   "execution_count": 1,
   "metadata": {
    "ExecuteTime": {
     "end_time": "2019-10-31T04:42:21.343854Z",
     "start_time": "2019-10-31T04:42:20.709944Z"
    }
   },
   "outputs": [],
   "source": [
    "from faker import Faker\n",
    "import pandas as pd\n",
    "import random\n",
    "import qgrid\n",
    "import ipywidgets as widgets\n",
    "from IPython.display import display"
   ]
  },
  {
   "cell_type": "code",
   "execution_count": 2,
   "metadata": {
    "ExecuteTime": {
     "end_time": "2019-10-31T04:42:21.412366Z",
     "start_time": "2019-10-31T04:42:21.345717Z"
    }
   },
   "outputs": [],
   "source": [
    "fake = Faker()\n",
    "\n",
    "def create_rows(num=1):\n",
    "    output = [{\"name\":fake.name(),\n",
    "               \"address\":fake.address(),\n",
    "               \"bs\":fake.bs(),\n",
    "               \"address\":fake.address(),\n",
    "               \"city\":fake.city(),\n",
    "               \"state\":fake.state(),\n",
    "               \"date_time\":fake.date_time(),\n",
    "               \"randomdata\":random.randint(1000,2000)} for x in range(num)]\n",
    "    return output"
   ]
  },
  {
   "cell_type": "code",
   "execution_count": 3,
   "metadata": {
    "ExecuteTime": {
     "end_time": "2019-10-31T04:42:21.822709Z",
     "start_time": "2019-10-31T04:42:21.415347Z"
    }
   },
   "outputs": [],
   "source": [
    "df = pd.DataFrame(create_rows(500))"
   ]
  },
  {
   "cell_type": "code",
   "execution_count": 4,
   "metadata": {
    "ExecuteTime": {
     "end_time": "2019-10-31T04:42:21.848686Z",
     "start_time": "2019-10-31T04:42:21.826579Z"
    }
   },
   "outputs": [
    {
     "data": {
      "text/html": [
       "<div>\n",
       "<style scoped>\n",
       "    .dataframe tbody tr th:only-of-type {\n",
       "        vertical-align: middle;\n",
       "    }\n",
       "\n",
       "    .dataframe tbody tr th {\n",
       "        vertical-align: top;\n",
       "    }\n",
       "\n",
       "    .dataframe thead th {\n",
       "        text-align: right;\n",
       "    }\n",
       "</style>\n",
       "<table border=\"1\" class=\"dataframe\">\n",
       "  <thead>\n",
       "    <tr style=\"text-align: right;\">\n",
       "      <th></th>\n",
       "      <th>name</th>\n",
       "      <th>address</th>\n",
       "      <th>bs</th>\n",
       "      <th>city</th>\n",
       "      <th>state</th>\n",
       "      <th>date_time</th>\n",
       "      <th>randomdata</th>\n",
       "    </tr>\n",
       "  </thead>\n",
       "  <tbody>\n",
       "    <tr>\n",
       "      <th>0</th>\n",
       "      <td>Jill Conner</td>\n",
       "      <td>3300 Leon Spring\\nSouth Rhonda, MA 89124</td>\n",
       "      <td>transform visionary architectures</td>\n",
       "      <td>Lake David</td>\n",
       "      <td>Kentucky</td>\n",
       "      <td>2002-02-03 17:33:27</td>\n",
       "      <td>1639</td>\n",
       "    </tr>\n",
       "    <tr>\n",
       "      <th>1</th>\n",
       "      <td>Andrea Lee</td>\n",
       "      <td>2667 April Island\\nEast Ricky, CT 91244</td>\n",
       "      <td>aggregate viral methodologies</td>\n",
       "      <td>New Patriciatown</td>\n",
       "      <td>Florida</td>\n",
       "      <td>2017-11-13 16:29:35</td>\n",
       "      <td>1034</td>\n",
       "    </tr>\n",
       "    <tr>\n",
       "      <th>2</th>\n",
       "      <td>Sharon Vaughn MD</td>\n",
       "      <td>63897 Wells Neck Suite 563\\nPort Dana, OK 83833</td>\n",
       "      <td>scale dynamic users</td>\n",
       "      <td>East Stevenburgh</td>\n",
       "      <td>Maryland</td>\n",
       "      <td>2015-07-25 02:44:38</td>\n",
       "      <td>1260</td>\n",
       "    </tr>\n",
       "    <tr>\n",
       "      <th>3</th>\n",
       "      <td>Matthew Sampson</td>\n",
       "      <td>USCGC Burns\\nFPO AE 43006</td>\n",
       "      <td>envisioneer granular convergence</td>\n",
       "      <td>Christopherfurt</td>\n",
       "      <td>Kansas</td>\n",
       "      <td>1998-05-19 01:10:37</td>\n",
       "      <td>1414</td>\n",
       "    </tr>\n",
       "    <tr>\n",
       "      <th>4</th>\n",
       "      <td>Felicia Wallace</td>\n",
       "      <td>05233 Henry Fort\\nSouth Stephaniefort, MA 41240</td>\n",
       "      <td>facilitate cross-media supply-chains</td>\n",
       "      <td>South Heatherside</td>\n",
       "      <td>Oregon</td>\n",
       "      <td>2003-07-16 16:22:45</td>\n",
       "      <td>1881</td>\n",
       "    </tr>\n",
       "  </tbody>\n",
       "</table>\n",
       "</div>"
      ],
      "text/plain": [
       "               name                                          address  \\\n",
       "0       Jill Conner         3300 Leon Spring\\nSouth Rhonda, MA 89124   \n",
       "1        Andrea Lee          2667 April Island\\nEast Ricky, CT 91244   \n",
       "2  Sharon Vaughn MD  63897 Wells Neck Suite 563\\nPort Dana, OK 83833   \n",
       "3   Matthew Sampson                        USCGC Burns\\nFPO AE 43006   \n",
       "4   Felicia Wallace  05233 Henry Fort\\nSouth Stephaniefort, MA 41240   \n",
       "\n",
       "                                     bs               city     state  \\\n",
       "0     transform visionary architectures         Lake David  Kentucky   \n",
       "1         aggregate viral methodologies   New Patriciatown   Florida   \n",
       "2                   scale dynamic users   East Stevenburgh  Maryland   \n",
       "3      envisioneer granular convergence    Christopherfurt    Kansas   \n",
       "4  facilitate cross-media supply-chains  South Heatherside    Oregon   \n",
       "\n",
       "            date_time  randomdata  \n",
       "0 2002-02-03 17:33:27        1639  \n",
       "1 2017-11-13 16:29:35        1034  \n",
       "2 2015-07-25 02:44:38        1260  \n",
       "3 1998-05-19 01:10:37        1414  \n",
       "4 2003-07-16 16:22:45        1881  "
      ]
     },
     "execution_count": 4,
     "metadata": {},
     "output_type": "execute_result"
    }
   ],
   "source": [
    "df.head()"
   ]
  },
  {
   "cell_type": "code",
   "execution_count": 5,
   "metadata": {
    "ExecuteTime": {
     "end_time": "2019-10-31T04:42:21.903768Z",
     "start_time": "2019-10-31T04:42:21.851407Z"
    }
   },
   "outputs": [],
   "source": [
    "cols = ['name', 'state', 'date_time']\n",
    "qgrid_widget = qgrid.show_grid(df[cols], show_toolbar=True, grid_options={\n",
    "    'multiSelect': False\n",
    "})\n",
    "person_out = widgets.Output()"
   ]
  },
  {
   "cell_type": "code",
   "execution_count": 6,
   "metadata": {
    "ExecuteTime": {
     "end_time": "2019-10-31T04:42:21.912035Z",
     "start_time": "2019-10-31T04:42:21.906047Z"
    }
   },
   "outputs": [],
   "source": [
    "def selection_changed_handler(event, widget):\n",
    "    person_list = event['new']\n",
    "    person_out.clear_output()\n",
    "    with person_out:\n",
    "        display(df.iloc[person_list[0]])\n",
    "    \n",
    "qgrid_widget.on('selection_changed', selection_changed_handler)"
   ]
  },
  {
   "cell_type": "code",
   "execution_count": 7,
   "metadata": {
    "ExecuteTime": {
     "end_time": "2019-10-31T04:42:21.926597Z",
     "start_time": "2019-10-31T04:42:21.915653Z"
    }
   },
   "outputs": [
    {
     "data": {
      "application/vnd.jupyter.widget-view+json": {
       "model_id": "8e855ac5c01a46659188be8a6eafd610",
       "version_major": 2,
       "version_minor": 0
      },
      "text/plain": [
       "QgridWidget(grid_options={'fullWidthRows': True, 'syncColumnCellResize': True, 'forceFitColumns': True, 'defau…"
      ]
     },
     "metadata": {},
     "output_type": "display_data"
    },
    {
     "data": {
      "application/vnd.jupyter.widget-view+json": {
       "model_id": "03c839851b7e4b59b5506d5d63f0a4b8",
       "version_major": 2,
       "version_minor": 0
      },
      "text/plain": [
       "Output()"
      ]
     },
     "metadata": {},
     "output_type": "display_data"
    }
   ],
   "source": [
    "display(qgrid_widget)\n",
    "display(person_out)"
   ]
  },
  {
   "cell_type": "code",
   "execution_count": null,
   "metadata": {},
   "outputs": [],
   "source": []
  }
 ],
 "metadata": {
  "kernelspec": {
   "display_name": "Python 3",
   "language": "python",
   "name": "python3"
  },
  "language_info": {
   "codemirror_mode": {
    "name": "ipython",
    "version": 3
   },
   "file_extension": ".py",
   "mimetype": "text/x-python",
   "name": "python",
   "nbconvert_exporter": "python",
   "pygments_lexer": "ipython3",
   "version": "3.7.3"
  },
  "nteract": {
   "version": "nteract-on-jupyter@2.1.3"
  },
  "toc": {
   "base_numbering": 1,
   "nav_menu": {},
   "number_sections": true,
   "sideBar": true,
   "skip_h1_title": false,
   "title_cell": "Table of Contents",
   "title_sidebar": "Contents",
   "toc_cell": false,
   "toc_position": {},
   "toc_section_display": true,
   "toc_window_display": false
  }
 },
 "nbformat": 4,
 "nbformat_minor": 4
}
