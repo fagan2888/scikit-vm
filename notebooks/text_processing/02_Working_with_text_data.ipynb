{
 "cells": [
  {
   "cell_type": "markdown",
   "metadata": {},
   "source": [
    "# Working with text data"
   ]
  },
  {
   "cell_type": "markdown",
   "metadata": {},
   "source": [
    "## Links\n",
    "\n",
    "* http://scikit-learn.org/stable/tutorial/text_analytics/working_with_text_data.html"
   ]
  },
  {
   "cell_type": "markdown",
   "metadata": {},
   "source": [
    "## Get data"
   ]
  },
  {
   "cell_type": "markdown",
   "metadata": {},
   "source": [
    "Scikit-learn has a built-in data loader to get postings from 20 newsgroups"
   ]
  },
  {
   "cell_type": "code",
   "execution_count": 3,
   "metadata": {},
   "outputs": [],
   "source": [
    "import textwrap\n",
    "import sklearn\n",
    "\n",
    "import warnings\n",
    "warnings.filterwarnings('ignore')\n",
    "import pandas as pd\n",
    "\n",
    "from sklearn.datasets import fetch_20newsgroups\n",
    "from sklearn.feature_extraction.text import CountVectorizer\n",
    "from sklearn.feature_extraction.text import TfidfTransformer\n",
    "from sklearn.naive_bayes import MultinomialNB\n",
    "from sklearn.linear_model import SGDClassifier\n",
    "from sklearn.pipeline import Pipeline\n",
    "from sklearn import metrics\n",
    "from sklearn.model_selection import GridSearchCV\n",
    "\n",
    "import numpy as np"
   ]
  },
  {
   "cell_type": "markdown",
   "metadata": {},
   "source": [
    "For this notebook 4 categories are used"
   ]
  },
  {
   "cell_type": "code",
   "execution_count": 4,
   "metadata": {},
   "outputs": [],
   "source": [
    "categories = [\n",
    "    'alt.atheism', 'soc.religion.christian', 'comp.graphics', 'sci.med']"
   ]
  },
  {
   "cell_type": "markdown",
   "metadata": {},
   "source": [
    "Retrieve the four newsgroups training data"
   ]
  },
  {
   "cell_type": "code",
   "execution_count": 5,
   "metadata": {},
   "outputs": [],
   "source": [
    "newsgroups_train = fetch_20newsgroups(\n",
    "    subset='train', categories=categories, shuffle=True, random_state=42)"
   ]
  },
  {
   "cell_type": "markdown",
   "metadata": {},
   "source": [
    "The names of the newsgroups are in the *target_names* member"
   ]
  },
  {
   "cell_type": "code",
   "execution_count": 6,
   "metadata": {},
   "outputs": [
    {
     "data": {
      "text/plain": [
       "['alt.atheism', 'comp.graphics', 'sci.med', 'soc.religion.christian']"
      ]
     },
     "execution_count": 6,
     "metadata": {},
     "output_type": "execute_result"
    }
   ],
   "source": [
    "newsgroups_train.target_names"
   ]
  },
  {
   "cell_type": "markdown",
   "metadata": {},
   "source": [
    "Each newsgroup has a numerical id in the *target* member"
   ]
  },
  {
   "cell_type": "code",
   "execution_count": 7,
   "metadata": {},
   "outputs": [
    {
     "data": {
      "text/plain": [
       "array([1, 1, 3, 3, 3, 3, 3, 2, 2, 2])"
      ]
     },
     "execution_count": 7,
     "metadata": {},
     "output_type": "execute_result"
    }
   ],
   "source": [
    "newsgroups_train.target[:10]"
   ]
  },
  {
   "cell_type": "markdown",
   "metadata": {},
   "source": [
    "Create a function to display the first lines of a newsgroup post and it's category"
   ]
  },
  {
   "cell_type": "code",
   "execution_count": 8,
   "metadata": {},
   "outputs": [],
   "source": [
    "def get_post(newsgroups, post_idx, lines=2):\n",
    "    text = newsgroups.data[post_idx].split('\\n')\n",
    "    return '\\n'.join(text[:min(lines, len(text))])\n",
    "    \n",
    "def display_category(newsgroups, post_idx):\n",
    "    print(newsgroups.target_names[newsgroups.target[post_idx]])"
   ]
  },
  {
   "cell_type": "markdown",
   "metadata": {},
   "source": [
    "Display the first three posts: category and text"
   ]
  },
  {
   "cell_type": "code",
   "execution_count": 9,
   "metadata": {},
   "outputs": [
    {
     "name": "stdout",
     "output_type": "stream",
     "text": [
      "comp.graphics\n",
      "\tFrom: sd345@city.ac.uk (Michael Collier)\n",
      "\tSubject: Converting images to HP LaserJet III?\n",
      "comp.graphics\n",
      "\tFrom: ani@ms.uky.edu (Aniruddha B. Deglurkar)\n",
      "\tSubject: help: Splitting a trimming region along a mesh \n",
      "soc.religion.christian\n",
      "\tFrom: djohnson@cs.ucsd.edu (Darin Johnson)\n",
      "\tSubject: Re: harrassed at work, could use some prayers\n"
     ]
    }
   ],
   "source": [
    "for idx in range(3):\n",
    "    display_category(newsgroups_train, idx)\n",
    "    print(textwrap.indent(get_post(newsgroups_train, idx), '\\t'))"
   ]
  },
  {
   "cell_type": "markdown",
   "metadata": {},
   "source": [
    "Display the total number of posts"
   ]
  },
  {
   "cell_type": "code",
   "execution_count": 10,
   "metadata": {},
   "outputs": [
    {
     "data": {
      "text/plain": [
       "2257"
      ]
     },
     "execution_count": 10,
     "metadata": {},
     "output_type": "execute_result"
    }
   ],
   "source": [
    "len(newsgroups_train.target)"
   ]
  },
  {
   "cell_type": "markdown",
   "metadata": {},
   "source": [
    "Display the number of posts in each category"
   ]
  },
  {
   "cell_type": "code",
   "execution_count": 11,
   "metadata": {},
   "outputs": [
    {
     "data": {
      "text/plain": [
       "soc.religion.christian    599\n",
       "sci.med                   594\n",
       "comp.graphics             584\n",
       "alt.atheism               480\n",
       "dtype: int64"
      ]
     },
     "execution_count": 11,
     "metadata": {},
     "output_type": "execute_result"
    }
   ],
   "source": [
    "name_map = dict(zip(range(4), newsgroups_train.target_names))\n",
    "\n",
    "srs = pd.Series(newsgroups_train.target, dtype='category')\n",
    "srs.cat.rename_categories(name_map).value_counts()"
   ]
  },
  {
   "cell_type": "markdown",
   "metadata": {},
   "source": [
    "## Convert the newsgroup posts to features"
   ]
  },
  {
   "cell_type": "markdown",
   "metadata": {},
   "source": [
    "### Calculate occurences of words"
   ]
  },
  {
   "cell_type": "markdown",
   "metadata": {},
   "source": [
    "Count the number of words in each document"
   ]
  },
  {
   "cell_type": "code",
   "execution_count": 12,
   "metadata": {},
   "outputs": [],
   "source": [
    "count_vect = CountVectorizer()\n",
    "X_train_counts = count_vect.fit_transform(newsgroups_train.data)"
   ]
  },
  {
   "cell_type": "markdown",
   "metadata": {},
   "source": [
    "Display the dimensions of the sparse matrix"
   ]
  },
  {
   "cell_type": "code",
   "execution_count": 13,
   "metadata": {},
   "outputs": [
    {
     "name": "stdout",
     "output_type": "stream",
     "text": [
      "The number of (total documents, words in all documents) =  (2257, 35788)\n"
     ]
    }
   ],
   "source": [
    "print('The number of (total documents, words in all documents) = ', X_train_counts.shape)"
   ]
  },
  {
   "cell_type": "markdown",
   "metadata": {},
   "source": [
    "The number of non-zero entries"
   ]
  },
  {
   "cell_type": "code",
   "execution_count": 14,
   "metadata": {},
   "outputs": [
    {
     "name": "stdout",
     "output_type": "stream",
     "text": [
      "There are 365,886 out of 80,773,516 entries\n"
     ]
    }
   ],
   "source": [
    "total = X_train_counts.shape[0] * X_train_counts.shape[1]\n",
    "print('There are {:,} out of {:,} entries'.format(X_train_counts.count_nonzero(), total))"
   ]
  },
  {
   "cell_type": "markdown",
   "metadata": {},
   "source": [
    "Display the words in the first post"
   ]
  },
  {
   "cell_type": "code",
   "execution_count": 24,
   "metadata": {},
   "outputs": [
    {
     "name": "stdout",
     "output_type": "stream",
     "text": [
      "03, 08, 1993, 1am, 21, 24855, 25, 53, 63, 73, about, accept, across, after, afterlife, again, age, all, allegory, alps, also, am, an, anasaz, anasazi, and, answer, answers, any, anyone, anything, apologize, are, article, as, ask, associated, at, athos, attain, attempts, away, az, bad, be, beacuse, beliefs, believing, between, bible, both, bringing, brought, browbeat, but, by, called, can, cannot, central, certain, certainly, chose, christ, christian, christianity, christians, chromosome, churches, close, com, come, comprise, conflict, consider, contemplate, correct, could, credit, crossed, cs, decent, detailed, did, difficult, dirty, dis, discriminatory, discussion, dislike, disparages, do, documents, does, don, done, driving, dussik, eastern, edited, edu, else, english, enter, entire, ess, etc, even, everyone, evil, except, faith, far, father, feel, felt, female, few, finds, fit, for, form, frame, from, further, furthermore, get, give, given, god, grace, greatest, had, hannibal, happened, hardly, has, have, he, head, heaven, help, here, highly, him, himself, his, historical, honor, hope, hours, how, human, humans, if, in, inc, inconsistancies, indeed, inherently, intent, into, is, it, its, james, journey, just, karl, kingdom, know, knowing, language, last, latter, launch, leaving, let, life, lifetime, like, lines, live, lives, longer, lord, love, make, male, maleness, man, manage, many, mar, matt, matter, may, me, men, merely, mind, missing, modern, moment, moss, most, mother, mouth, moved, movement, my, myself, name, need, needless, neuter, never, new, next, no, non, nor, not, now, of, offer, offshoots, on, one, only, or, organization, organized, original, our, over, own, partner, peace, people, philosophy, phx, pilgrim, pointers, politcal, political, politically, population, position, possess, possible, probably, problem, progress, pronoun, pronouns, purely, question, questions, quit, re, read, really, reason, recommend, refer, referred, religion, religions, religious, reply, require, role, rutgers, salvation, same, saved, say, says, scarolina, scrutiny, see, seems, set, shame, shortcomings, similar, sin, sinful, sleep, so, some, something, source, spritual, stood, stop, subject, succeed, such, support, sure, take, taste, teach, teaching, teachings, tell, that, the, their, them, themselves, there, thereby, things, think, this, those, through, times, to, too, trendy, trouble, trust, try, unbelievable, unshaken, up, upbringing, us, usa, usceast, use, ve, views, was, way, we, well, what, which, while, who, will, with, without, witnessing, woman, women, won, word, world, writes, writings, wrote, yes, you, your, yours, yourself\n"
     ]
    }
   ],
   "source": [
    "post_id = 10\n",
    "doc_idx, word_idx = X_train_counts.getrow(post_id).nonzero()\n",
    "all_words = count_vect.get_feature_names()\n",
    "words = [all_words[id] for id in word_idx]\n",
    "print(', '. join(sorted(words)))"
   ]
  },
  {
   "cell_type": "markdown",
   "metadata": {},
   "source": [
    "Display the text of the first post"
   ]
  },
  {
   "cell_type": "code",
   "execution_count": 27,
   "metadata": {},
   "outputs": [
    {
     "data": {
      "text/plain": [
       "'From: anasaz!karl@anasazi.com (Karl Dussik)Subject: Re: Is \"Christian\" a dirty word?Organization: Anasazi Inc Phx Az USALines: 73In article <Mar.25.03.53.08.1993.24855@athos.rutgers.edu> @usceast.cs.scarolina.edu:moss@cs.scarolina.edu (James Moss) writes:>I was brought up christian, but I am not christian any longer.>I also have a bad taste in my mouth over christianity.  I (in>my own faith) accept and live my life by many if not most of the>teachings of christ, but I cannot let myself be called a christian,>beacuse to me too many things are done on the name of christianity,>that I can not be associated with.  A question for you - can you give me the name of an organization or aphilosophy or a political movement, etc., which has never had anythingevil done in its name?  You\\'re missing a central teaching of Christianity -man is inherently sinful.  We are saved through faith by grace.  Knowingthat, believing that, does not make us without sin.  Furthermore, not allwho consider themselves \"christians\" are (even those who manage to headtheir own \"churches\").  \"Not everyone who says to me, \\'Lord, Lord,\\' willenter the kingdom of heaven, but only he who does the will of my Father whois in heaven.\" - Matt. 7:21.>I also have a problem with the inconsistancies in the Bible, and>how it seems to me that too many people have edited the original>documents to fit their own world views, thereby leaving the Bible>an unbelievable source.Again, what historical documents do you trust?  Do you think Hannibalcrossed the Alps?  How do you know?  How do you know for sure?  Whathistorical documents have stood the scrutiny and the attempts to dis-credit it as well as the Bible has?>I don\\'t have dislike of christians (except for a few who won\\'t>quit witnessing to me, no matter how many times I tell them to stop), >but the christian faith/organized religion will never (as far as i can >see at the moment) get my support.Well, it\\'s really a shame you feel this way.  No one can browbeat youinto believing, and those who try will probably only succeed in drivingyou further away.  You need to ask yourself some difficult questions:1) is there an afterlife, and if so, does man require salvation to attainit.  If the answer is yes, the next question is 2) how does man attain thissalvation - can he do it on his own as the eastern religions and certainmodern offshoots like the \"new age movement\" teach or does he require God\\'shelp?  3) If the latter, in what form does - indeed, in what form can suchhelp come?  Needless to say, this discussion could take a lifetime, and forsome people it did comprise their life\\'s writings, so I am hardly in aposition to offer the answers here - merely pointers to what to ask.  Few,of us manage to have an unshaken faith our entire lives (certainly not me).The spritual life is a difficult journey (if you\\'ve never read \"A Pilgrim\\'sProgress,\" I highly recommend this greatest allegory of the english language).>Peace and Love>In God(ess)\\'s name>James MossNow I see by your close that one possible source of trouble for you may be aconflict between your politcal beliefs and your religious upbringing.  Youwrote that \"I (in my own faith) accept and live my life by many if not mostof the teachings of christ\".  Well, Christ referred to God as \"My Father\",not \"My Mother\", and while the \"maleness\" of God is not the same as themaleness of those of us humans who possess a Y chromosome, it does nothonor God to refer to Him as female purely to be trendy, non-discriminatory,or politically correct.  This in no way disparages women (nor is it my intentto do so by my use of the male pronoun to refer to both men and women - english just does not have a decent neuter set of pronouns).  After all, Godchose a woman as his only human partner in bringing Christ into the humanpopulation.Well, I\\'m not about to launch into a detailed discussion ofthe role of women in Christianity at 1am with only 6 hours of sleep in thelast 63, and for that reason I also apologize for any shortcomings in thisarticle.  I just happened across yours and felt moved to reply.  I hope Imay have given you, and anyone else who finds himself in a similar frame ofmind, something to contemplate.Karl Dussik'"
      ]
     },
     "execution_count": 27,
     "metadata": {},
     "output_type": "execute_result"
    }
   ],
   "source": [
    "newsgroups_train.data[post_id].replace('\\n', '')"
   ]
  },
  {
   "cell_type": "markdown",
   "metadata": {},
   "source": [
    "### Convert occurences to tf-idf"
   ]
  },
  {
   "cell_type": "markdown",
   "metadata": {},
   "source": [
    "As the number of occurences of a word in a long document are likely to be higher than in a short document, the number of occurences is divided by the total number of words to calculate the term frequencies **tf**. This is then adjusted by multiplying by the inverse document frequencies **idf** which counts the number of times the word occurs in a document. Terms that occur in few documents have higher weights than terms that occur in many documents.\n",
    "\n",
    "The *TfidfTransformer* can calculate the tf-idf values form the word counts."
   ]
  },
  {
   "cell_type": "code",
   "execution_count": 28,
   "metadata": {},
   "outputs": [],
   "source": [
    "tfidf_transformer = TfidfTransformer()\n",
    "X_train_tfidf = tfidf_transformer.fit_transform(X_train_counts)"
   ]
  },
  {
   "cell_type": "markdown",
   "metadata": {},
   "source": [
    "The tf-idf values for the first document are shown below"
   ]
  },
  {
   "cell_type": "code",
   "execution_count": 29,
   "metadata": {},
   "outputs": [
    {
     "data": {
      "text/plain": [
       "array([0.13487106, 0.03127031, 0.03448147, 0.04334165, 0.099941  ,\n",
       "       0.06567578, 0.09313008, 0.11819702, 0.07283774, 0.12806013,\n",
       "       0.02387114, 0.08865416, 0.04910237, 0.10218403, 0.08631915,\n",
       "       0.01679781, 0.06866113, 0.13487106, 0.04727158, 0.06899051,\n",
       "       0.08497461, 0.03429071, 0.11947938, 0.04935883, 0.0979625 ,\n",
       "       0.07802072, 0.01776232, 0.01824994, 0.03637492, 0.19622799,\n",
       "       0.10960586, 0.01686489, 0.03590436, 0.24645541, 0.03478259,\n",
       "       0.01996488, 0.04525255, 0.01894546, 0.1232277 , 0.0744441 ,\n",
       "       0.18626015, 0.1232277 , 0.17358472, 0.03604415, 0.11382739,\n",
       "       0.05417404, 0.04270369, 0.01679781, 0.07691883, 0.13635772,\n",
       "       0.06666452, 0.1256015 , 0.13487106, 0.03779319, 0.03104295,\n",
       "       0.06350566, 0.21567206, 0.07830787, 0.04967185, 0.38418039,\n",
       "       0.31440007, 0.08413454, 0.043162  , 0.03109515, 0.03900412,\n",
       "       0.06866113, 0.12491818, 0.13487106, 0.10783603, 0.24645541,\n",
       "       0.05966162, 0.13487106, 0.25612026])"
      ]
     },
     "execution_count": 29,
     "metadata": {},
     "output_type": "execute_result"
    }
   ],
   "source": [
    "doc_num = 0\n",
    "doc_idx, word_idx = X_train_tfidf.getrow(0).nonzero()\n",
    "tfidf = X_train_tfidf.getrow(0).todense().getA1()\n",
    "tfidf[word_idx]"
   ]
  },
  {
   "cell_type": "markdown",
   "metadata": {},
   "source": [
    "## Train a classifier"
   ]
  },
  {
   "cell_type": "markdown",
   "metadata": {},
   "source": [
    "### Train a Naive Bayes classifier"
   ]
  },
  {
   "cell_type": "code",
   "execution_count": 30,
   "metadata": {},
   "outputs": [],
   "source": [
    "clf = MultinomialNB().fit(X_train_tfidf, newsgroups_train.target)"
   ]
  },
  {
   "cell_type": "markdown",
   "metadata": {},
   "source": [
    "Create features for two example documents"
   ]
  },
  {
   "cell_type": "code",
   "execution_count": 31,
   "metadata": {},
   "outputs": [],
   "source": [
    "doc_examples = ['God is love', 'OpenGL on the GPU is fast']\n",
    "X_example_counts = count_vect.transform(doc_examples)\n",
    "X_example_tfidf = tfidf_transformer.transform(X_example_counts)"
   ]
  },
  {
   "cell_type": "markdown",
   "metadata": {},
   "source": [
    "Using the trained classifer predict the newsgroup category"
   ]
  },
  {
   "cell_type": "code",
   "execution_count": 32,
   "metadata": {},
   "outputs": [
    {
     "name": "stdout",
     "output_type": "stream",
     "text": [
      "God is love - soc.religion.christian\n",
      "OpenGL on the GPU is fast - comp.graphics\n"
     ]
    }
   ],
   "source": [
    "predictions = clf.predict(X_example_tfidf)\n",
    "for prediction, doc_example in zip(predictions, doc_examples):\n",
    "    print(\"{} - {}\".format(doc_example, newsgroups_train.target_names[prediction]))"
   ]
  },
  {
   "cell_type": "markdown",
   "metadata": {},
   "source": [
    "## Build a naive Bayes pipeline"
   ]
  },
  {
   "cell_type": "markdown",
   "metadata": {},
   "source": [
    "Build a three stage pipeline"
   ]
  },
  {
   "cell_type": "code",
   "execution_count": 33,
   "metadata": {},
   "outputs": [],
   "source": [
    "text_clf = Pipeline(\n",
    "    [('vect', CountVectorizer()),\n",
    "     ('tfidf', TfidfTransformer()),\n",
    "     ('clf', MultinomialNB())])"
   ]
  },
  {
   "cell_type": "markdown",
   "metadata": {},
   "source": [
    "Use the pipeline to train the model"
   ]
  },
  {
   "cell_type": "code",
   "execution_count": 34,
   "metadata": {},
   "outputs": [
    {
     "data": {
      "text/plain": [
       "Pipeline(memory=None,\n",
       "     steps=[('vect', CountVectorizer(analyzer='word', binary=False, decode_error='strict',\n",
       "        dtype=<class 'numpy.int64'>, encoding='utf-8', input='content',\n",
       "        lowercase=True, max_df=1.0, max_features=None, min_df=1,\n",
       "        ngram_range=(1, 1), preprocessor=None, stop_words=None,\n",
       "        strip...inear_tf=False, use_idf=True)), ('clf', MultinomialNB(alpha=1.0, class_prior=None, fit_prior=True))])"
      ]
     },
     "execution_count": 34,
     "metadata": {},
     "output_type": "execute_result"
    }
   ],
   "source": [
    "text_clf.fit(newsgroups_train.data, newsgroups_train.target)  "
   ]
  },
  {
   "cell_type": "markdown",
   "metadata": {},
   "source": [
    "### Evaluate the performance on a test set"
   ]
  },
  {
   "cell_type": "markdown",
   "metadata": {},
   "source": [
    "Get a test set"
   ]
  },
  {
   "cell_type": "code",
   "execution_count": 35,
   "metadata": {},
   "outputs": [],
   "source": [
    "newsgroups_test = fetch_20newsgroups(\n",
    "    subset='test', categories=categories, shuffle=True, random_state=42)"
   ]
  },
  {
   "cell_type": "markdown",
   "metadata": {},
   "source": [
    "Predict the category of the test set"
   ]
  },
  {
   "cell_type": "code",
   "execution_count": 36,
   "metadata": {},
   "outputs": [],
   "source": [
    "prediction = text_clf.predict(newsgroups_test.data)"
   ]
  },
  {
   "cell_type": "markdown",
   "metadata": {},
   "source": [
    "Calculate the accuracy"
   ]
  },
  {
   "cell_type": "code",
   "execution_count": 37,
   "metadata": {},
   "outputs": [
    {
     "name": "stdout",
     "output_type": "stream",
     "text": [
      "Accuracy = 83.49\n"
     ]
    }
   ],
   "source": [
    "print('Accuracy = {:.2f}'.format(np.mean(prediction == newsgroups_test.target) * 100))"
   ]
  },
  {
   "cell_type": "markdown",
   "metadata": {},
   "source": [
    "## Build a linear SVM pipeline"
   ]
  },
  {
   "cell_type": "markdown",
   "metadata": {},
   "source": [
    "Build a three stage pipeline"
   ]
  },
  {
   "cell_type": "code",
   "execution_count": 38,
   "metadata": {},
   "outputs": [],
   "source": [
    "text_clf = Pipeline(\n",
    "    [('vect', CountVectorizer()),\n",
    "     ('tfidf', TfidfTransformer()),\n",
    "     ('clf', SGDClassifier(loss='hinge', penalty='l2',\n",
    "                           alpha=1e-3, random_state=42,\n",
    "                           max_iter=5, tol=None))])"
   ]
  },
  {
   "cell_type": "markdown",
   "metadata": {},
   "source": [
    "### Evaluate the performance"
   ]
  },
  {
   "cell_type": "code",
   "execution_count": 39,
   "metadata": {},
   "outputs": [
    {
     "name": "stdout",
     "output_type": "stream",
     "text": [
      "Accuracy = 91.28\n"
     ]
    }
   ],
   "source": [
    "text_clf.fit(newsgroups_train.data, newsgroups_train.target)  \n",
    "predicted = text_clf.predict(newsgroups_test.data)\n",
    "print('Accuracy = {:.2f}'.format(np.mean(predicted == newsgroups_test.target) * 100))"
   ]
  },
  {
   "cell_type": "markdown",
   "metadata": {},
   "source": [
    "### Display a detailed performance report"
   ]
  },
  {
   "cell_type": "markdown",
   "metadata": {},
   "source": [
    "Display the precision and recall of the classifier"
   ]
  },
  {
   "cell_type": "code",
   "execution_count": 40,
   "metadata": {},
   "outputs": [
    {
     "name": "stdout",
     "output_type": "stream",
     "text": [
      "                        precision    recall  f1-score   support\n",
      "\n",
      "           alt.atheism       0.95      0.81      0.87       319\n",
      "         comp.graphics       0.88      0.97      0.92       389\n",
      "               sci.med       0.94      0.90      0.92       396\n",
      "soc.religion.christian       0.90      0.95      0.93       398\n",
      "\n",
      "           avg / total       0.92      0.91      0.91      1502\n",
      "\n"
     ]
    }
   ],
   "source": [
    "print(metrics.classification_report(newsgroups_test.target, predicted,\n",
    "    target_names=newsgroups_test.target_names))"
   ]
  },
  {
   "cell_type": "markdown",
   "metadata": {},
   "source": [
    "The number of posts in the atheism category is 319"
   ]
  },
  {
   "cell_type": "code",
   "execution_count": 47,
   "metadata": {},
   "outputs": [
    {
     "data": {
      "text/plain": [
       "comp.graphics             433\n",
       "soc.religion.christian    420\n",
       "sci.med                   377\n",
       "alt.atheism               272\n",
       "dtype: int64"
      ]
     },
     "execution_count": 47,
     "metadata": {},
     "output_type": "execute_result"
    }
   ],
   "source": [
    "srs = pd.Series(predicted, dtype='category')\n",
    "srs.cat.rename_categories(name_map).value_counts()"
   ]
  },
  {
   "cell_type": "markdown",
   "metadata": {},
   "source": [
    "The number predicted in the atheism category is 272. The confusion matrix shows the correctly predicted values on the diagonal (from top left to bottom right)"
   ]
  },
  {
   "cell_type": "code",
   "execution_count": 97,
   "metadata": {},
   "outputs": [
    {
     "data": {
      "text/plain": [
       "array([[258,  11,  15,  35],\n",
       "       [  4, 379,   3,   3],\n",
       "       [  5,  33, 355,   3],\n",
       "       [  5,  10,   4, 379]])"
      ]
     },
     "execution_count": 97,
     "metadata": {},
     "output_type": "execute_result"
    }
   ],
   "source": [
    "metrics.confusion_matrix(newsgroups_test.target, predicted)"
   ]
  },
  {
   "cell_type": "markdown",
   "metadata": {},
   "source": [
    "The true categories are in the rows and the predicted categories are in the columns"
   ]
  },
  {
   "cell_type": "markdown",
   "metadata": {},
   "source": [
    "* For atheism the true positives is 258 out of 319 for a recall of 0.81.\n",
    "* For atheism the true positives is 258 out of predicted value of 272 for a precision of 0.95"
   ]
  },
  {
   "cell_type": "markdown",
   "metadata": {},
   "source": [
    "## Tune parameters using grid search"
   ]
  },
  {
   "cell_type": "markdown",
   "metadata": {},
   "source": [
    "The optimal value of the parameters can be searched on a grid of possible values using the *GridSearchCV* class"
   ]
  },
  {
   "cell_type": "code",
   "execution_count": 109,
   "metadata": {},
   "outputs": [],
   "source": [
    "parameters = {\n",
    "    'vect__ngram_range': [(1, 1), (1, 2)],\n",
    "    'tfidf__use_idf': (True, False),\n",
    "    'clf__alpha': (1e-3, 1e-4)\n",
    "}\n",
    "gs_clf = GridSearchCV(text_clf, parameters, n_jobs=-1)\n",
    "gs_clf = gs_clf.fit(newsgroups_train.data, newsgroups_train.target)"
   ]
  },
  {
   "cell_type": "markdown",
   "metadata": {},
   "source": [
    "Using the classifier with the best parameters we calculate the accuracy"
   ]
  },
  {
   "cell_type": "code",
   "execution_count": 110,
   "metadata": {},
   "outputs": [
    {
     "name": "stdout",
     "output_type": "stream",
     "text": [
      "Accuracy = 93.01\n"
     ]
    }
   ],
   "source": [
    "predicted = gs_clf.predict(newsgroups_test.data)\n",
    "print('Accuracy = {:.2f}'.format(np.mean(predicted == newsgroups_test.target) * 100))"
   ]
  },
  {
   "cell_type": "markdown",
   "metadata": {},
   "source": [
    "Display the best parameters"
   ]
  },
  {
   "cell_type": "code",
   "execution_count": 120,
   "metadata": {},
   "outputs": [
    {
     "data": {
      "text/plain": [
       "{'clf__alpha': 0.0001, 'tfidf__use_idf': True, 'vect__ngram_range': (1, 2)}"
      ]
     },
     "execution_count": 120,
     "metadata": {},
     "output_type": "execute_result"
    }
   ],
   "source": [
    "gs_clf.best_params_"
   ]
  },
  {
   "cell_type": "code",
   "execution_count": null,
   "metadata": {},
   "outputs": [],
   "source": []
  }
 ],
 "metadata": {
  "kernelspec": {
   "display_name": "Python 3",
   "language": "python",
   "name": "python3"
  },
  "language_info": {
   "codemirror_mode": {
    "name": "ipython",
    "version": 3
   },
   "file_extension": ".py",
   "mimetype": "text/x-python",
   "name": "python",
   "nbconvert_exporter": "python",
   "pygments_lexer": "ipython3",
   "version": "3.6.5"
  },
  "toc": {
   "base_numbering": 1,
   "nav_menu": {
    "height": "140px",
    "width": "302px"
   },
   "number_sections": true,
   "sideBar": true,
   "skip_h1_title": false,
   "title_cell": "Table of Contents",
   "title_sidebar": "Contents",
   "toc_cell": false,
   "toc_position": {
    "height": "calc(100% - 180px)",
    "left": "10px",
    "top": "150px",
    "width": "307.2px"
   },
   "toc_section_display": true,
   "toc_window_display": false
  }
 },
 "nbformat": 4,
 "nbformat_minor": 2
}
