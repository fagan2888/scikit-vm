{
 "cells": [
  {
   "cell_type": "code",
   "execution_count": 1,
   "metadata": {},
   "outputs": [],
   "source": [
    "import numpy as np"
   ]
  },
  {
   "cell_type": "markdown",
   "metadata": {},
   "source": [
    "Q01. Scikit-learn data sets"
   ]
  },
  {
   "cell_type": "code",
   "execution_count": 2,
   "metadata": {},
   "outputs": [],
   "source": [
    "from sklearn import datasets\n",
    "iris = datasets.load_iris()\n",
    "iris.data.shape\n",
    "iris_X = iris.data\n",
    "iris_y = iris.target\n",
    "\n",
    "diabetes = datasets.load_diabetes()\n",
    "diabetes_X = diabetes.data\n",
    "diabetes_y = diabetes.target\n",
    "\n",
    "np.random.seed(0)\n",
    "indices = np.random.permutation(len(iris_X))"
   ]
  },
  {
   "cell_type": "markdown",
   "metadata": {},
   "source": [
    "Q02. KNN classifier"
   ]
  },
  {
   "cell_type": "code",
   "execution_count": 3,
   "metadata": {},
   "outputs": [
    {
     "data": {
      "text/plain": [
       "0.9"
      ]
     },
     "execution_count": 3,
     "metadata": {},
     "output_type": "execute_result"
    }
   ],
   "source": [
    "from sklearn.neighbors import KNeighborsClassifier\n",
    "X_train = iris_X[indices[:-10]]\n",
    "y_train = iris_y[indices[:-10]]\n",
    "X_test = iris_X[indices[-10:]]\n",
    "y_test = iris_y[indices[-10:]]\n",
    "# low n_neighbors - low bias/high variance\n",
    "# high n_neighbors - high bias/low variance\n",
    "knn = KNeighborsClassifier(n_neighbors=5)\n",
    "knn.fit(X_train, y_train)\n",
    "knn.predict(X_test)\n",
    "knn.score(X_test, y_test)  # accuracy"
   ]
  },
  {
   "cell_type": "markdown",
   "metadata": {},
   "source": [
    "Q03. Logistic regression - classification algorithm"
   ]
  },
  {
   "cell_type": "code",
   "execution_count": 4,
   "metadata": {
    "lines_to_next_cell": 2
   },
   "outputs": [
    {
     "data": {
      "text/plain": [
       "0.9"
      ]
     },
     "execution_count": 4,
     "metadata": {},
     "output_type": "execute_result"
    }
   ],
   "source": [
    "from sklearn.linear_model import LogisticRegression\n",
    "# C - inverse of regularization strength\n",
    "# small C - large regularization\n",
    "clf = LogisticRegression(\n",
    "    solver='lbfgs', C=1e5, multi_class='multinomial')\n",
    "clf.fit(X_train, y_train)\n",
    "clf.score(X_test, y_test)  # accuracy"
   ]
  },
  {
   "cell_type": "markdown",
   "metadata": {},
   "source": [
    "Q04. Support vector machine - linear kernel"
   ]
  },
  {
   "cell_type": "code",
   "execution_count": 5,
   "metadata": {},
   "outputs": [
    {
     "data": {
      "text/plain": [
       "0.9"
      ]
     },
     "execution_count": 5,
     "metadata": {},
     "output_type": "execute_result"
    }
   ],
   "source": [
    "from sklearn import svm\n",
    "# requires features to be normalized\n",
    "# for a good prediction\n",
    "# C - inverse of regularization strength\n",
    "# small C - large regularization\n",
    "svc = svm.SVC(C=1.0, kernel='linear')\n",
    "svc.fit(X_train, y_train)\n",
    "svc.score(X_test, y_test)  # accuracy"
   ]
  },
  {
   "cell_type": "markdown",
   "metadata": {},
   "source": [
    "Q05. Support vector machine - non-linear kernel"
   ]
  },
  {
   "cell_type": "code",
   "execution_count": 6,
   "metadata": {},
   "outputs": [
    {
     "data": {
      "text/plain": [
       "0.9"
      ]
     },
     "execution_count": 6,
     "metadata": {},
     "output_type": "execute_result"
    }
   ],
   "source": [
    "from sklearn import svm\n",
    "# Classes that are not linearly separable\n",
    "# Choose rbf - radial bases function\n",
    "svc = svm.SVC(C=1.0, kernel='rbf')\n",
    "svc.fit(X_train, y_train)\n",
    "svc.score(X_test, y_test)  # accuracy"
   ]
  },
  {
   "cell_type": "markdown",
   "metadata": {},
   "source": [
    "Q06. Linear regression"
   ]
  },
  {
   "cell_type": "code",
   "execution_count": 7,
   "metadata": {},
   "outputs": [
    {
     "data": {
      "text/plain": [
       "array([ -41.33528215, -347.28666526,  443.78936844,  320.7957972 ,\n",
       "       -542.3151447 ,   96.80178202,  -17.05321868,  208.59330616,\n",
       "        619.17248965,  176.19961992])"
      ]
     },
     "execution_count": 7,
     "metadata": {},
     "output_type": "execute_result"
    }
   ],
   "source": [
    "from sklearn.linear_model import LinearRegression\n",
    "X_train = diabetes_X[indices[:-20]]\n",
    "y_train = diabetes_y[indices[:-20]]\n",
    "X_test = diabetes_X[indices[-20:]]\n",
    "y_test = diabetes_y[indices[-20:]]\n",
    "regr = LinearRegression()\n",
    "regr.fit(X_train, y_train)\n",
    "mse = np.mean((regr.predict(X_test) - y_test) ** 2)\n",
    "# coefficient of determination - R^2\n",
    "# best 1.0, can be negative\n",
    "# R^2 = (1 - u/v) u = ((y_true - y_pred) ** 2).sum()\n",
    "# v = ((y_true - y_true.mean()) ** 2).sum()\n",
    "regr.score(X_test, y_test)  # R^2\n",
    "regr.coef_  # all coefficients non-zero"
   ]
  },
  {
   "cell_type": "markdown",
   "metadata": {},
   "source": [
    "Q07. Ridge regression"
   ]
  },
  {
   "cell_type": "code",
   "execution_count": 8,
   "metadata": {},
   "outputs": [
    {
     "data": {
      "text/plain": [
       "array([ -17.02210233, -218.84736942,  362.47940329,  242.17742944,\n",
       "        -90.1076573 , -148.74654383, -196.25712145,  109.97427399,\n",
       "        373.86121242,  177.41150117])"
      ]
     },
     "execution_count": 8,
     "metadata": {},
     "output_type": "execute_result"
    }
   ],
   "source": [
    "from sklearn.linear_model import Ridge\n",
    "# high alpha, high bias/low variance\n",
    "regr = Ridge(alpha=.1)\n",
    "regr.fit(X_train, y_train)\n",
    "mse = np.mean((regr.predict(X_test) - y_test) ** 2)\n",
    "regr.score(X_test, y_test)  # R^2\n",
    "regr.coef_  # all coefficients non-zero"
   ]
  },
  {
   "cell_type": "markdown",
   "metadata": {},
   "source": [
    "Q08. Lasso regression"
   ]
  },
  {
   "cell_type": "code",
   "execution_count": 9,
   "metadata": {},
   "outputs": [
    {
     "data": {
      "text/plain": [
       "array([  -0.        , -269.55647481,  428.06431925,  243.08080337,\n",
       "         -0.        , -191.11724112, -286.7171575 ,    0.        ,\n",
       "        463.26668133,  143.83405909])"
      ]
     },
     "execution_count": 9,
     "metadata": {},
     "output_type": "execute_result"
    }
   ],
   "source": [
    "from sklearn.linear_model import Lasso\n",
    "# high alpha, high bias/low variance\n",
    "regr = Lasso(alpha=.1)\n",
    "regr.fit(X_train, y_train)\n",
    "mse = np.mean((regr.predict(X_test) - y_test) ** 2)\n",
    "regr.score(X_test, y_test)  # R^2\n",
    "regr.coef_  # some coefficients zero"
   ]
  },
  {
   "cell_type": "markdown",
   "metadata": {},
   "source": [
    "Q09. Cross validation"
   ]
  },
  {
   "cell_type": "code",
   "execution_count": 10,
   "metadata": {},
   "outputs": [
    {
     "data": {
      "text/plain": [
       "array([1.        , 0.96078431, 0.97916667])"
      ]
     },
     "execution_count": 10,
     "metadata": {},
     "output_type": "execute_result"
    }
   ],
   "source": [
    "from sklearn.model_selection import cross_val_score\n",
    "k_fold = 3\n",
    "svc = svm.SVC(C=1.0, kernel='linear')\n",
    "cross_val_score(svc, iris_X, iris_y, cv=k_fold,\n",
    "    scoring='accuracy')"
   ]
  },
  {
   "cell_type": "markdown",
   "metadata": {},
   "source": [
    "Q10. Grid search"
   ]
  },
  {
   "cell_type": "code",
   "execution_count": 11,
   "metadata": {},
   "outputs": [
    {
     "data": {
      "text/plain": [
       "(0.96, 0.1)"
      ]
     },
     "execution_count": 11,
     "metadata": {},
     "output_type": "execute_result"
    }
   ],
   "source": [
    "from sklearn.model_selection import GridSearchCV\n",
    "# 1e-6 1e-5 1e-4 1e-3 1e-2 1e-1\n",
    "Cs = np.logspace(-6, -1, 6)\n",
    "svc = svm.SVC(C=1.0, kernel='linear')\n",
    "clf = GridSearchCV(\n",
    "    estimator=svc, param_grid=dict(C=Cs))\n",
    "clf.fit(iris_X, iris_y)\n",
    "clf.best_score_, clf.best_estimator_.C"
   ]
  },
  {
   "cell_type": "markdown",
   "metadata": {},
   "source": [
    "Q11. K-means clustering"
   ]
  },
  {
   "cell_type": "code",
   "execution_count": 12,
   "metadata": {},
   "outputs": [
    {
     "data": {
      "text/plain": [
       "-78.94084142614622"
      ]
     },
     "execution_count": 12,
     "metadata": {},
     "output_type": "execute_result"
    }
   ],
   "source": [
    "from sklearn import cluster\n",
    "k_means = cluster.KMeans(n_clusters=3)\n",
    "k_means.fit(iris_X)\n",
    "k_means.score(iris_X)"
   ]
  },
  {
   "cell_type": "markdown",
   "metadata": {},
   "source": [
    "Q12. Principal component analysis"
   ]
  },
  {
   "cell_type": "code",
   "execution_count": 13,
   "metadata": {},
   "outputs": [
    {
     "name": "stdout",
     "output_type": "stream",
     "text": [
      "[3.72422378e+00 1.00453358e+00 6.88324329e-32]\n"
     ]
    },
    {
     "data": {
      "text/plain": [
       "(100, 2)"
      ]
     },
     "execution_count": 13,
     "metadata": {},
     "output_type": "execute_result"
    }
   ],
   "source": [
    "# Create a signal with only 2 useful dimensions\n",
    "x1 = np.random.normal(size=100)\n",
    "x2 = np.random.normal(size=100)\n",
    "X = np.c_[x1, x2, x1 + x2]\n",
    "\n",
    "from sklearn import decomposition\n",
    "pca = decomposition.PCA()\n",
    "pca.fit(X)\n",
    "print(pca.explained_variance_)\n",
    "# Only the 2 first components are useful\n",
    "pca.n_components = 2\n",
    "X_reduced = pca.fit_transform(X)\n",
    "X_reduced.shape"
   ]
  }
 ],
 "metadata": {
  "kernelspec": {
   "display_name": "Python 3",
   "language": "python",
   "name": "python3"
  },
  "language_info": {
   "codemirror_mode": {
    "name": "ipython",
    "version": 3
   },
   "file_extension": ".py",
   "mimetype": "text/x-python",
   "name": "python",
   "nbconvert_exporter": "python",
   "pygments_lexer": "ipython3",
   "version": "3.6.7"
  }
 },
 "nbformat": 4,
 "nbformat_minor": 2
}
