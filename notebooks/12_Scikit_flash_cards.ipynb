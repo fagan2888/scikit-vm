{
 "cells": [
  {
   "cell_type": "code",
   "execution_count": null,
   "metadata": {},
   "outputs": [],
   "source": [
    "import numpy as np"
   ]
  },
  {
   "cell_type": "markdown",
   "metadata": {},
   "source": [
    "Q01. Scikit-learn data sets"
   ]
  },
  {
   "cell_type": "code",
   "execution_count": null,
   "metadata": {},
   "outputs": [],
   "source": [
    "from sklearn import datasets\n",
    "iris = datasets.load_iris()\n",
    "iris.data.shape\n",
    "iris_X = iris.data\n",
    "iris_y = iris.target\n",
    "\n",
    "diabetes = datasets.load_diabetes()\n",
    "diabetes_X = diabetes.data\n",
    "diabetes_y = diabetes.target"
   ]
  },
  {
   "cell_type": "markdown",
   "metadata": {},
   "source": [
    "Q02. Scikit-learn KNN classifier"
   ]
  },
  {
   "cell_type": "code",
   "execution_count": null,
   "metadata": {},
   "outputs": [],
   "source": [
    "from sklearn.neighbors import KNeighborsClassifier\n",
    "np.random.seed(0)\n",
    "indices = np.random.permutation(len(iris_X))\n",
    "X_train = iris_X[indices[:-10]]\n",
    "y_train = iris_y[indices[:-10]]\n",
    "X_test = iris_X[indices[-10:]]\n",
    "y_test = iris_y[indices[-10:]]\n",
    "# low n_neighbors - low bias/high variance\n",
    "# high n_neighbors - high bias/low variance\n",
    "knn = KNeighborsClassifier(n_neighbors=5)\n",
    "knn.fit(X_train, y_train)\n",
    "knn.predict(X_test)\n",
    "knn.score(X_test, y_test)  # accuracy"
   ]
  },
  {
   "cell_type": "markdown",
   "metadata": {},
   "source": [
    "Q03. Scikit-learn linear regression"
   ]
  },
  {
   "cell_type": "code",
   "execution_count": null,
   "metadata": {},
   "outputs": [],
   "source": [
    "from sklearn.linear_model import LinearRegression\n",
    "X_train = diabetes_X[indices[:-20]]\n",
    "y_train = diabetes_y[indices[:-20]]\n",
    "X_test = diabetes_X[indices[-20:]]\n",
    "y_test = diabetes_y[indices[-20:]]\n",
    "regr = LinearRegression()\n",
    "regr.fit(X_train, y_train)\n",
    "mse = np.mean((regr.predict(X_test) - y_test) ** 2)\n",
    "# coefficient of determination - R^2\n",
    "# best 1.0, can be negative\n",
    "# R^2 = (1 - u/v) u = ((y_true - y_pred) ** 2).sum()\n",
    "# v = ((y_true - y_true.mean()) ** 2).sum()\n",
    "regr.score(X_test, y_test)  # R^2\n",
    "regr.coef_  # all coefficients non-zero"
   ]
  },
  {
   "cell_type": "markdown",
   "metadata": {},
   "source": [
    "Q04. Scikit-learn Ridge regression"
   ]
  },
  {
   "cell_type": "code",
   "execution_count": null,
   "metadata": {},
   "outputs": [],
   "source": [
    "from sklearn.linear_model import Ridge\n",
    "# high alpha, high bias/low variance\n",
    "regr = Ridge(alpha=.1)\n",
    "regr.fit(X_train, y_train)\n",
    "mse = np.mean((regr.predict(X_test) - y_test) ** 2)\n",
    "regr.score(X_test, y_test)  # R^2\n",
    "regr.coef_  # all coefficients non-zero"
   ]
  },
  {
   "cell_type": "markdown",
   "metadata": {},
   "source": [
    "Q05. Scikit-learn Lasso regression"
   ]
  },
  {
   "cell_type": "code",
   "execution_count": null,
   "metadata": {},
   "outputs": [],
   "source": [
    "from sklearn.linear_model import Lasso\n",
    "# high alpha, high bias/low variance\n",
    "regr = Lasso(alpha=.1)\n",
    "regr.fit(X_train, y_train)\n",
    "mse = np.mean((regr.predict(X_test) - y_test) ** 2)\n",
    "regr.score(X_test, y_test)  # R^2\n",
    "regr.coef_  # some coefficients zero"
   ]
  },
  {
   "cell_type": "code",
   "execution_count": null,
   "metadata": {},
   "outputs": [],
   "source": []
  }
 ],
 "metadata": {
  "kernelspec": {
   "display_name": "Python 3",
   "language": "python",
   "name": "python3"
  }
 },
 "nbformat": 4,
 "nbformat_minor": 2
}
