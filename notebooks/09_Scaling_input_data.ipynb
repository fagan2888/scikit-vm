{
 "cells": [
  {
   "cell_type": "markdown",
   "metadata": {},
   "source": [
    "# Scaling data"
   ]
  },
  {
   "cell_type": "markdown",
   "metadata": {},
   "source": [
    "Some algorithms in the *sklearn* library are affected by data measured using different scales. For example if one meaures is in centimeters (one hundreth of a meter) and another is in micrometers (one millionth of a meter) the results may not be optimal.\n",
    "\n",
    "Sklearn has scalaing functions in the preprocessing module\n",
    "* http://scikit-learn.org/stable/modules/preprocessing.html"
   ]
  },
  {
   "cell_type": "code",
   "execution_count": 1,
   "metadata": {},
   "outputs": [
    {
     "name": "stderr",
     "output_type": "stream",
     "text": [
      "/usr/lib/python3.6/importlib/_bootstrap.py:219: RuntimeWarning: numpy.dtype size changed, may indicate binary incompatibility. Expected 96, got 88\n",
      "  return f(*args, **kwds)\n"
     ]
    }
   ],
   "source": [
    "%matplotlib inline\n",
    "\n",
    "from sklearn import datasets\n",
    "from sklearn import preprocessing\n",
    "\n",
    "\n",
    "from sklearn import linear_model\n",
    "from sklearn import tree\n",
    "from sklearn.metrics import accuracy_score\n",
    "from sklearn.metrics import precision_score\n",
    "from sklearn.metrics import recall_score\n",
    "\n",
    "import pandas as pd\n",
    "import seaborn as sns\n",
    "import matplotlib.pyplot as plt"
   ]
  },
  {
   "cell_type": "markdown",
   "metadata": {},
   "source": [
    "Load the [Iris](http://scikit-learn.org/stable/modules/generated/sklearn.datasets.load_iris.html) dataset. It has three kinds of Irises with each Iris species stored in 50 consecutive rows. Using a subset of the second and third Iris species stored from row 50 and above create a subset of the data."
   ]
  },
  {
   "cell_type": "code",
   "execution_count": 2,
   "metadata": {},
   "outputs": [],
   "source": [
    "iris = datasets.load_iris()\n",
    "iris_subset = iris.data[50:,0:2]\n",
    "target_subset = iris.target[50:]"
   ]
  },
  {
   "cell_type": "markdown",
   "metadata": {},
   "source": [
    "Display the two species *versicolor* and *virginica* with two axis: sepal length and sepal width. The sepal length is in centimeters and the sepal width is in micrometers."
   ]
  },
  {
   "cell_type": "code",
   "execution_count": 3,
   "metadata": {},
   "outputs": [],
   "source": [
    "df1 = pd.DataFrame(iris_subset, columns=iris.feature_names[0:2])\n",
    "df1['species'] = target_subset\n",
    "df1['species_names'] = df1.species\n",
    "df1.replace({'species_names':{\n",
    "            0:iris['target_names'][0],\n",
    "            1:iris['target_names'][1],\n",
    "            2:iris['target_names'][2]            \n",
    "        }}, inplace=True)\n",
    "df1.columns = [item.replace(' (cm)', '') for item in df1.columns]\n",
    "df1['sepal width'] = df1['sepal width'] * 10000"
   ]
  },
  {
   "cell_type": "code",
   "execution_count": 4,
   "metadata": {},
   "outputs": [
    {
     "name": "stderr",
     "output_type": "stream",
     "text": [
      "/usr/local/lib/python3.6/dist-packages/seaborn/axisgrid.py:230: UserWarning: The `size` paramter has been renamed to `height`; please update your code.\n",
      "  warnings.warn(msg, UserWarning)\n"
     ]
    },
    {
     "data": {
      "text/plain": [
       "Text(0.5,1,'Iris species: different scales on axes')"
      ]
     },
     "execution_count": 4,
     "metadata": {},
     "output_type": "execute_result"
    },
    {
     "data": {
      "image/png": "[encoded data removed]",
      "text/plain": [
       "<Figure size 444.75x360 with 1 Axes>"
      ]
     },
     "metadata": {},
     "output_type": "display_data"
    }
   ],
   "source": [
    "g = sns.FacetGrid(df1, hue='species_names', size=5, palette='Set1')\n",
    "ax = g.map(plt.scatter, 'sepal length', 'sepal width', s=20)\n",
    "ax.set_xlabels(label='sepal length - cm')\n",
    "ax.set_ylabels(label='sepal width - $\\mu m$')\n",
    "g.add_legend()\n",
    "g.fig.gca().set_title('Iris species: different scales on axes')"
   ]
  },
  {
   "cell_type": "markdown",
   "metadata": {},
   "source": [
    "Using the `scale` function in `sklearn` the measures are converterd to have a mean of zero and variance of one."
   ]
  },
  {
   "cell_type": "code",
   "execution_count": 5,
   "metadata": {},
   "outputs": [],
   "source": [
    "scaled_data = preprocessing.scale(iris_subset)"
   ]
  },
  {
   "cell_type": "code",
   "execution_count": 6,
   "metadata": {},
   "outputs": [
    {
     "data": {
      "text/html": [
       "<div>\n",
       "<style scoped>\n",
       "    .dataframe tbody tr th:only-of-type {\n",
       "        vertical-align: middle;\n",
       "    }\n",
       "\n",
       "    .dataframe tbody tr th {\n",
       "        vertical-align: top;\n",
       "    }\n",
       "\n",
       "    .dataframe thead th {\n",
       "        text-align: right;\n",
       "    }\n",
       "</style>\n",
       "<table border=\"1\" class=\"dataframe\">\n",
       "  <thead>\n",
       "    <tr style=\"text-align: right;\">\n",
       "      <th></th>\n",
       "      <th>sepal length</th>\n",
       "      <th>sepal width</th>\n",
       "      <th>species</th>\n",
       "    </tr>\n",
       "  </thead>\n",
       "  <tbody>\n",
       "    <tr>\n",
       "      <th>count</th>\n",
       "      <td>1.000000e+02</td>\n",
       "      <td>1.000000e+02</td>\n",
       "      <td>100.000000</td>\n",
       "    </tr>\n",
       "    <tr>\n",
       "      <th>mean</th>\n",
       "      <td>3.361755e-15</td>\n",
       "      <td>9.436896e-18</td>\n",
       "      <td>1.500000</td>\n",
       "    </tr>\n",
       "    <tr>\n",
       "      <th>std</th>\n",
       "      <td>1.005038e+00</td>\n",
       "      <td>1.005038e+00</td>\n",
       "      <td>0.502519</td>\n",
       "    </tr>\n",
       "    <tr>\n",
       "      <th>min</th>\n",
       "      <td>-2.065164e+00</td>\n",
       "      <td>-2.633780e+00</td>\n",
       "      <td>1.000000</td>\n",
       "    </tr>\n",
       "    <tr>\n",
       "      <th>25%</th>\n",
       "      <td>-7.005180e-01</td>\n",
       "      <td>-5.195071e-01</td>\n",
       "      <td>1.000000</td>\n",
       "    </tr>\n",
       "    <tr>\n",
       "      <th>50%</th>\n",
       "      <td>5.761837e-02</td>\n",
       "      <td>8.457092e-02</td>\n",
       "      <td>1.500000</td>\n",
       "    </tr>\n",
       "    <tr>\n",
       "      <th>75%</th>\n",
       "      <td>6.641275e-01</td>\n",
       "      <td>4.621197e-01</td>\n",
       "      <td>2.000000</td>\n",
       "    </tr>\n",
       "    <tr>\n",
       "      <th>max</th>\n",
       "      <td>2.483655e+00</td>\n",
       "      <td>2.802922e+00</td>\n",
       "      <td>2.000000</td>\n",
       "    </tr>\n",
       "  </tbody>\n",
       "</table>\n",
       "</div>"
      ],
      "text/plain": [
       "       sepal length   sepal width     species\n",
       "count  1.000000e+02  1.000000e+02  100.000000\n",
       "mean   3.361755e-15  9.436896e-18    1.500000\n",
       "std    1.005038e+00  1.005038e+00    0.502519\n",
       "min   -2.065164e+00 -2.633780e+00    1.000000\n",
       "25%   -7.005180e-01 -5.195071e-01    1.000000\n",
       "50%    5.761837e-02  8.457092e-02    1.500000\n",
       "75%    6.641275e-01  4.621197e-01    2.000000\n",
       "max    2.483655e+00  2.802922e+00    2.000000"
      ]
     },
     "execution_count": 6,
     "metadata": {},
     "output_type": "execute_result"
    }
   ],
   "source": [
    "df2 = pd.DataFrame(scaled_data, columns=iris.feature_names[0:2])\n",
    "df2['species'] = target_subset\n",
    "df2['species_names'] = df2.species\n",
    "df2.replace({'species_names':{\n",
    "            0:iris['target_names'][0],\n",
    "            1:iris['target_names'][1],\n",
    "            2:iris['target_names'][2]            \n",
    "        }}, inplace=True)\n",
    "df2.columns = [item.replace(' (cm)', '') for item in df2.columns]\n",
    "df2.describe()"
   ]
  },
  {
   "cell_type": "code",
   "execution_count": 7,
   "metadata": {},
   "outputs": [
    {
     "name": "stderr",
     "output_type": "stream",
     "text": [
      "/usr/local/lib/python3.6/dist-packages/seaborn/axisgrid.py:230: UserWarning: The `size` paramter has been renamed to `height`; please update your code.\n",
      "  warnings.warn(msg, UserWarning)\n"
     ]
    },
    {
     "data": {
      "text/plain": [
       "Text(0.5,1,'Iris species: similar scales on axes')"
      ]
     },
     "execution_count": 7,
     "metadata": {},
     "output_type": "execute_result"
    },
    {
     "data": {
      "image/png": "[encoded data removed]",
      "text/plain": [
       "<Figure size 444.75x360 with 1 Axes>"
      ]
     },
     "metadata": {},
     "output_type": "display_data"
    }
   ],
   "source": [
    "g = sns.FacetGrid(df2, hue='species_names', size=5, palette='Set1')\n",
    "ax = g.map(plt.scatter, 'sepal length', 'sepal width', s=20)\n",
    "ax.set_xlabels(label='sepal length - normalized')\n",
    "ax.set_ylabels(label='sepal width - normalized')\n",
    "g.add_legend()\n",
    "g.fig.gca().set_title('Iris species: similar scales on axes')"
   ]
  },
  {
   "cell_type": "markdown",
   "metadata": {},
   "source": [
    "Create a function to get metrics for optimization"
   ]
  },
  {
   "cell_type": "code",
   "execution_count": 8,
   "metadata": {},
   "outputs": [],
   "source": [
    "def get_metrics(target, predict, name):\n",
    "    return {\n",
    "        'classifier': name,\n",
    "        'accuracy': accuracy_score(target, predict),\n",
    "        'precision': precision_score(target, predict),\n",
    "        'recall': recall_score(target, predict)\n",
    "    }\n",
    "\n",
    "def getLogisticRegressionMetrics(X, y, name):\n",
    "    logreg = linear_model.LogisticRegression(C=1e5)\n",
    "    logreg.fit(X, y)\n",
    "    predict = logreg.predict(X)\n",
    "    return get_metrics(y, predict, name)\n",
    "\n",
    "def getDecisionTreeMetrics(X, y, name):\n",
    "    clf = tree.DecisionTreeClassifier(max_depth=10)\n",
    "    clf.fit(X, y)\n",
    "    predict = clf.predict(X)\n",
    "    return get_metrics(y, predict, name)"
   ]
  },
  {
   "cell_type": "markdown",
   "metadata": {},
   "source": [
    "Use a logistic regression classifier on the data with different scales"
   ]
  },
  {
   "cell_type": "code",
   "execution_count": 9,
   "metadata": {},
   "outputs": [],
   "source": [
    "X = df1[['sepal length', 'sepal width']].values\n",
    "y = df1.species\n",
    "name = 'Logistic regression: different scales'\n",
    "result1 = getLogisticRegressionMetrics(X, y, name)"
   ]
  },
  {
   "cell_type": "markdown",
   "metadata": {},
   "source": [
    "Use a logistics regression classifer on the normalized data"
   ]
  },
  {
   "cell_type": "code",
   "execution_count": 10,
   "metadata": {},
   "outputs": [],
   "source": [
    "X = df2[['sepal length', 'sepal width']].values\n",
    "y = df2.species\n",
    "name = 'Logistic regression: normalized data'\n",
    "result2 = getLogisticRegressionMetrics(X, y, name)"
   ]
  },
  {
   "cell_type": "markdown",
   "metadata": {},
   "source": [
    "Use a decision tree classifier on the data with different scales"
   ]
  },
  {
   "cell_type": "code",
   "execution_count": 11,
   "metadata": {},
   "outputs": [],
   "source": [
    "X = df1[['sepal length', 'sepal width']].values\n",
    "y = df1.species\n",
    "name = 'Decision tree: different scales'\n",
    "result3 = getDecisionTreeMetrics(X, y, name)"
   ]
  },
  {
   "cell_type": "markdown",
   "metadata": {},
   "source": [
    "Use a decision tree classifer on the normalized data"
   ]
  },
  {
   "cell_type": "code",
   "execution_count": 12,
   "metadata": {},
   "outputs": [],
   "source": [
    "X = df2[['sepal length', 'sepal width']].values\n",
    "y = df2.species\n",
    "name = 'Decision tree: normalized data'\n",
    "result4 = getDecisionTreeMetrics(X, y, name)"
   ]
  },
  {
   "cell_type": "markdown",
   "metadata": {},
   "source": [
    "Compare the results"
   ]
  },
  {
   "cell_type": "code",
   "execution_count": 13,
   "metadata": {},
   "outputs": [
    {
     "data": {
      "text/html": [
       "<div>\n",
       "<style scoped>\n",
       "    .dataframe tbody tr th:only-of-type {\n",
       "        vertical-align: middle;\n",
       "    }\n",
       "\n",
       "    .dataframe tbody tr th {\n",
       "        vertical-align: top;\n",
       "    }\n",
       "\n",
       "    .dataframe thead th {\n",
       "        text-align: right;\n",
       "    }\n",
       "</style>\n",
       "<table border=\"1\" class=\"dataframe\">\n",
       "  <thead>\n",
       "    <tr style=\"text-align: right;\">\n",
       "      <th></th>\n",
       "      <th>classifier</th>\n",
       "      <th>accuracy</th>\n",
       "      <th>precision</th>\n",
       "      <th>recall</th>\n",
       "    </tr>\n",
       "  </thead>\n",
       "  <tbody>\n",
       "    <tr>\n",
       "      <th>0</th>\n",
       "      <td>Logistic regression: different scales</td>\n",
       "      <td>0.56</td>\n",
       "      <td>0.578947</td>\n",
       "      <td>0.44</td>\n",
       "    </tr>\n",
       "    <tr>\n",
       "      <th>1</th>\n",
       "      <td>Logistic regression: normalized data</td>\n",
       "      <td>0.75</td>\n",
       "      <td>0.745098</td>\n",
       "      <td>0.76</td>\n",
       "    </tr>\n",
       "    <tr>\n",
       "      <th>2</th>\n",
       "      <td>Decision tree: different scales</td>\n",
       "      <td>0.88</td>\n",
       "      <td>0.816667</td>\n",
       "      <td>0.98</td>\n",
       "    </tr>\n",
       "    <tr>\n",
       "      <th>3</th>\n",
       "      <td>Decision tree: normalized data</td>\n",
       "      <td>0.88</td>\n",
       "      <td>0.816667</td>\n",
       "      <td>0.98</td>\n",
       "    </tr>\n",
       "  </tbody>\n",
       "</table>\n",
       "</div>"
      ],
      "text/plain": [
       "                              classifier  accuracy  precision  recall\n",
       "0  Logistic regression: different scales      0.56   0.578947    0.44\n",
       "1   Logistic regression: normalized data      0.75   0.745098    0.76\n",
       "2        Decision tree: different scales      0.88   0.816667    0.98\n",
       "3         Decision tree: normalized data      0.88   0.816667    0.98"
      ]
     },
     "execution_count": 13,
     "metadata": {},
     "output_type": "execute_result"
    }
   ],
   "source": [
    "pd.DataFrame(\n",
    "    [result1, result2, result3, result4],\n",
    "    columns=['classifier', 'accuracy', 'precision', 'recall'])"
   ]
  },
  {
   "cell_type": "code",
   "execution_count": null,
   "metadata": {},
   "outputs": [],
   "source": []
  }
 ],
 "metadata": {
  "kernelspec": {
   "display_name": "Python 3",
   "language": "python",
   "name": "python3"
  },
  "language_info": {
   "codemirror_mode": {
    "name": "ipython",
    "version": 3
   },
   "file_extension": ".py",
   "mimetype": "text/x-python",
   "name": "python",
   "nbconvert_exporter": "python",
   "pygments_lexer": "ipython3",
   "version": "3.6.5"
  }
 },
 "nbformat": 4,
 "nbformat_minor": 1
}
