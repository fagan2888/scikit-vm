{
 "cells": [
  {
   "cell_type": "code",
   "execution_count": 1,
   "metadata": {
    "ExecuteTime": {
     "end_time": "2019-10-29T04:43:21.747724Z",
     "start_time": "2019-10-29T04:43:21.018993Z"
    }
   },
   "outputs": [],
   "source": [
    "import pandas as pd\n",
    "import random\n",
    "from faker import Faker\n",
    "\n",
    "from ipywidgets import interact, interactive, fixed, interact_manual\n",
    "import ipywidgets as widgets\n",
    "from IPython.display import display"
   ]
  },
  {
   "cell_type": "code",
   "execution_count": 2,
   "metadata": {
    "ExecuteTime": {
     "end_time": "2019-10-29T04:43:21.828429Z",
     "start_time": "2019-10-29T04:43:21.750089Z"
    }
   },
   "outputs": [],
   "source": [
    "fake = Faker()\n",
    "\n",
    "def create_rows(num=1):\n",
    "    output = [{\n",
    "        \"name\":fake.name(),\n",
    "               \"address\":fake.address(),\n",
    "               \"name\":fake.name(),\n",
    "               \"email\":fake.email(),\n",
    "               \"bs\":fake.bs(),\n",
    "               \"address\":fake.address(),\n",
    "               \"city\":fake.city(),\n",
    "               \"state\":fake.state(),\n",
    "               \"date_time\":fake.date_time(),\n",
    "               \"randomdata\":random.randint(1000,2000)\n",
    "    } for x in range(num)]\n",
    "    return output"
   ]
  },
  {
   "cell_type": "markdown",
   "metadata": {},
   "source": [
    "Create a dataframe with 500 rows"
   ]
  },
  {
   "cell_type": "code",
   "execution_count": 3,
   "metadata": {
    "ExecuteTime": {
     "end_time": "2019-10-29T04:43:22.534135Z",
     "start_time": "2019-10-29T04:43:21.833237Z"
    }
   },
   "outputs": [],
   "source": [
    "df = pd.DataFrame(create_rows(500))"
   ]
  },
  {
   "cell_type": "markdown",
   "metadata": {},
   "source": [
    "Display the first few rows"
   ]
  },
  {
   "cell_type": "code",
   "execution_count": 4,
   "metadata": {
    "ExecuteTime": {
     "end_time": "2019-10-29T04:43:22.538918Z",
     "start_time": "2019-10-29T04:43:22.536549Z"
    }
   },
   "outputs": [],
   "source": [
    "# df.head()"
   ]
  },
  {
   "cell_type": "markdown",
   "metadata": {},
   "source": [
    "Create an alphabetical list of unique states"
   ]
  },
  {
   "cell_type": "code",
   "execution_count": 5,
   "metadata": {
    "ExecuteTime": {
     "end_time": "2019-10-29T04:43:22.551048Z",
     "start_time": "2019-10-29T04:43:22.543815Z"
    }
   },
   "outputs": [],
   "source": [
    "state_list = sorted(df.state.unique())"
   ]
  },
  {
   "cell_type": "markdown",
   "metadata": {
    "ExecuteTime": {
     "end_time": "2019-10-29T02:15:21.119107Z",
     "start_time": "2019-10-29T02:15:21.113508Z"
    }
   },
   "source": [
    "Choose the state"
   ]
  },
  {
   "cell_type": "code",
   "execution_count": 6,
   "metadata": {
    "ExecuteTime": {
     "end_time": "2019-10-29T04:43:22.562226Z",
     "start_time": "2019-10-29T04:43:22.556903Z"
    }
   },
   "outputs": [],
   "source": [
    "non_state_columns = [col_name for col_name in df.columns if col_name not in ['state']]\n",
    "\n",
    "# @interact\n",
    "# def choose_state(state=state_list):\n",
    "#     return df[non_state_columns][df.state == state].head()"
   ]
  },
  {
   "cell_type": "markdown",
   "metadata": {},
   "source": [
    "Choose the state initial"
   ]
  },
  {
   "cell_type": "code",
   "execution_count": 7,
   "metadata": {
    "ExecuteTime": {
     "end_time": "2019-10-29T04:43:22.572235Z",
     "start_time": "2019-10-29T04:43:22.567294Z"
    }
   },
   "outputs": [],
   "source": [
    "state_initial = sorted(df.state.str.slice(0, 1).unique())\n",
    "\n",
    "# @interact\n",
    "# def choose_state(state_initial=state_initial):\n",
    "#     return df[df.state.str.slice(0, 1) == state_initial].head()"
   ]
  },
  {
   "cell_type": "code",
   "execution_count": 8,
   "metadata": {
    "ExecuteTime": {
     "end_time": "2019-10-29T04:43:22.584109Z",
     "start_time": "2019-10-29T04:43:22.576402Z"
    }
   },
   "outputs": [],
   "source": [
    "def get_state_widget(new_initial=None):\n",
    "    if new_initial:\n",
    "        states = [state for state in sorted(\n",
    "            df.state.unique()) if state.startswith(new_initial)]\n",
    "    else:\n",
    "        states = sorted(df.state.unique())\n",
    "    return widgets.Dropdown(\n",
    "        options=states,\n",
    "        description='State :',\n",
    "    )"
   ]
  },
  {
   "cell_type": "code",
   "execution_count": 9,
   "metadata": {
    "ExecuteTime": {
     "end_time": "2019-10-29T04:43:22.602002Z",
     "start_time": "2019-10-29T04:43:22.587232Z"
    }
   },
   "outputs": [],
   "source": [
    "state_widget = get_state_widget()"
   ]
  },
  {
   "cell_type": "code",
   "execution_count": 10,
   "metadata": {
    "ExecuteTime": {
     "end_time": "2019-10-29T04:43:22.613036Z",
     "start_time": "2019-10-29T04:43:22.606519Z"
    }
   },
   "outputs": [],
   "source": [
    "def state_initial_handler(change):\n",
    "    if change['name'] == 'value':\n",
    "        with out:\n",
    "            new_initial = change['new']\n",
    "            out.clear_output()\n",
    "            states = [state for state in sorted(\n",
    "                df.state.unique()) if state.startswith(new_initial)]\n",
    "            state_widget.value = states[0]"
   ]
  },
  {
   "cell_type": "code",
   "execution_count": 11,
   "metadata": {
    "ExecuteTime": {
     "end_time": "2019-10-29T04:43:22.632915Z",
     "start_time": "2019-10-29T04:43:22.616364Z"
    }
   },
   "outputs": [],
   "source": [
    "state_initial_widget = widgets.Dropdown(\n",
    "    options=state_initial,\n",
    "    description='State Initial :',\n",
    ")\n",
    "state_initial_widget.observe(state_initial_handler)"
   ]
  },
  {
   "cell_type": "code",
   "execution_count": 12,
   "metadata": {
    "ExecuteTime": {
     "end_time": "2019-10-29T04:43:22.642357Z",
     "start_time": "2019-10-29T04:43:22.635850Z"
    }
   },
   "outputs": [],
   "source": [
    "out = widgets.Output()"
   ]
  },
  {
   "cell_type": "code",
   "execution_count": 13,
   "metadata": {
    "ExecuteTime": {
     "end_time": "2019-10-29T04:43:22.652079Z",
     "start_time": "2019-10-29T04:43:22.646968Z"
    }
   },
   "outputs": [],
   "source": [
    "def state_handler(change):\n",
    "    if change['name'] == 'value':\n",
    "        with out:\n",
    "            new_state = change['new']\n",
    "            out.clear_output()\n",
    "            display(df[df.state == new_state])"
   ]
  },
  {
   "cell_type": "code",
   "execution_count": 14,
   "metadata": {
    "ExecuteTime": {
     "end_time": "2019-10-29T04:43:22.660100Z",
     "start_time": "2019-10-29T04:43:22.655713Z"
    }
   },
   "outputs": [],
   "source": [
    "state_widget.observe(state_handler)"
   ]
  },
  {
   "cell_type": "code",
   "execution_count": 15,
   "metadata": {
    "ExecuteTime": {
     "end_time": "2019-10-29T04:43:22.684780Z",
     "start_time": "2019-10-29T04:43:22.666344Z"
    }
   },
   "outputs": [
    {
     "data": {
      "application/vnd.jupyter.widget-view+json": {
       "model_id": "85621fc6f4e3441e8cba83cb4754e697",
       "version_major": 2,
       "version_minor": 0
      },
      "text/plain": [
       "Dropdown(description='State Initial :', options=('A', 'C', 'D', 'F', 'G', 'H', 'I', 'K', 'L', 'M', 'N', 'O', '…"
      ]
     },
     "metadata": {},
     "output_type": "display_data"
    },
    {
     "data": {
      "application/vnd.jupyter.widget-view+json": {
       "model_id": "131c3cc78b72467c96d099d75a7cc9f0",
       "version_major": 2,
       "version_minor": 0
      },
      "text/plain": [
       "Dropdown(description='State :', options=('Alabama', 'Alaska', 'Arizona', 'Arkansas', 'California', 'Colorado',…"
      ]
     },
     "metadata": {},
     "output_type": "display_data"
    },
    {
     "data": {
      "application/vnd.jupyter.widget-view+json": {
       "model_id": "bd2f0c9b08674838a0e9c7101510bc4b",
       "version_major": 2,
       "version_minor": 0
      },
      "text/plain": [
       "Output()"
      ]
     },
     "metadata": {},
     "output_type": "display_data"
    }
   ],
   "source": [
    "display(state_initial_widget)\n",
    "display(state_widget)\n",
    "display(out)"
   ]
  },
  {
   "cell_type": "code",
   "execution_count": null,
   "metadata": {},
   "outputs": [],
   "source": []
  }
 ],
 "metadata": {
  "kernelspec": {
   "display_name": "Python 3",
   "language": "python",
   "name": "python3"
  },
  "language_info": {
   "codemirror_mode": {
    "name": "ipython",
    "version": 3
   },
   "file_extension": ".py",
   "mimetype": "text/x-python",
   "name": "python",
   "nbconvert_exporter": "python",
   "pygments_lexer": "ipython3",
   "version": "3.7.3"
  },
  "toc": {
   "base_numbering": 1,
   "nav_menu": {},
   "number_sections": true,
   "sideBar": true,
   "skip_h1_title": false,
   "title_cell": "Table of Contents",
   "title_sidebar": "Contents",
   "toc_cell": false,
   "toc_position": {},
   "toc_section_display": true,
   "toc_window_display": false
  }
 },
 "nbformat": 4,
 "nbformat_minor": 2
}
