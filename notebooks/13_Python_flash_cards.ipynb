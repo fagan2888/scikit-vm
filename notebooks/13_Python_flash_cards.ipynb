{
 "cells": [
  {
   "cell_type": "markdown",
   "metadata": {},
   "source": [
    "Q01. Strings: split join"
   ]
  },
  {
   "cell_type": "code",
   "execution_count": 1,
   "metadata": {},
   "outputs": [
    {
     "data": {
      "text/plain": [
       "'lock, stock, barrel'"
      ]
     },
     "execution_count": 1,
     "metadata": {},
     "output_type": "execute_result"
    }
   ],
   "source": [
    "str = 'lock stock barrel'\n",
    "words = str.split(' ')\n",
    "words\n",
    "# ['lock', 'stock', 'barrel']\n",
    "', '.join(words)\n",
    "# ['lock', 'stock', 'barrel']"
   ]
  },
  {
   "cell_type": "markdown",
   "metadata": {},
   "source": [
    "Q02. Regular expressions"
   ]
  },
  {
   "cell_type": "code",
   "execution_count": 2,
   "metadata": {},
   "outputs": [
    {
     "name": "stdout",
     "output_type": "stream",
     "text": [
      "'ab' at 0:2\n",
      "'ab' at 5:7\n"
     ]
    }
   ],
   "source": [
    "'''\n",
    "('ab*', 'a followed by zero or more b'),\n",
    "('ab+', 'a followed by one or more b'),\n",
    "('ab?', 'a followed by zero or one b'),\n",
    "('ab{3}', 'a followed by three b'),\n",
    "('ab{2,3}', 'a followed by two to three b')\n",
    "'''\n",
    "\n",
    "import re\n",
    "text = 'abbaaabbbbaaaaa'\n",
    "pat = 'ab'  # pattern\n",
    "\n",
    "for match in re.finditer(pat, text):\n",
    "    s = match.start()\n",
    "    e = match.end()\n",
    "    print('{!r} at {:d}:{:d}'.format(\n",
    "        text[s:e], s, e))\n",
    "# 'ab' at 0:2\n",
    "# 'ab' at 5:7"
   ]
  },
  {
   "cell_type": "markdown",
   "metadata": {},
   "source": [
    "Q03. Enumerations"
   ]
  },
  {
   "cell_type": "code",
   "execution_count": 3,
   "metadata": {},
   "outputs": [
    {
     "data": {
      "text/plain": [
       "[('wont_fix', 1), ('closed', 2), ('new', 3)]"
      ]
     },
     "execution_count": 3,
     "metadata": {},
     "output_type": "execute_result"
    }
   ],
   "source": [
    "import enum\n",
    "\n",
    "class BugStatus(enum.Enum):\n",
    "    new = 3\n",
    "    invalid = 2\n",
    "    wont_fix = 1\n",
    "\n",
    "[(st.name, st.value) for st in BugStatus]\n",
    "\n",
    "# TypeError: '<' not supported between\n",
    "# instances of 'BugStatus' and 'BugStatus'\n",
    "# [st.value for st in sorted(BugStatus)]\n",
    "\n",
    "class BugStatusInt(enum.IntEnum):\n",
    "    new = 3\n",
    "    invalid = 2\n",
    "    wont_fix = 1\n",
    "\n",
    "# works fine\n",
    "[st.value for st in sorted(BugStatusInt)]\n",
    "\n",
    "# dynamically create enum\n",
    "BugStatus = enum.Enum(\n",
    "    value='BugStatus',\n",
    "    names=('wont_fix closed new'))\n",
    "\n",
    "[(st.name, st.value) for st in BugStatus]\n",
    "# [('wont_fix', 1), ('closed', 2), ('new', 3)]"
   ]
  },
  {
   "cell_type": "markdown",
   "metadata": {},
   "source": [
    "Q04. Collections - ChainMap"
   ]
  },
  {
   "cell_type": "code",
   "execution_count": 4,
   "metadata": {},
   "outputs": [
    {
     "data": {
      "text/plain": [
       "[('a', 'A'), ('b', 'B'), ('c', 'C')]"
      ]
     },
     "execution_count": 4,
     "metadata": {},
     "output_type": "execute_result"
    }
   ],
   "source": [
    "import collections\n",
    "\n",
    "a = {'a': 'A', 'c': 'C'}\n",
    "b = {'b': 'B', 'c': 'D'}\n",
    "\n",
    "# search through dictionaries\n",
    "# in order\n",
    "m = collections.ChainMap(a, b)\n",
    "\n",
    "[(k, v) for k, v in m.items()]\n",
    "# [('c', 'C'), ('b', 'B'), ('a', 'A')]"
   ]
  },
  {
   "cell_type": "markdown",
   "metadata": {},
   "source": [
    "Q05. Collections - Counter"
   ]
  },
  {
   "cell_type": "code",
   "execution_count": 5,
   "metadata": {},
   "outputs": [
    {
     "name": "stdout",
     "output_type": "stream",
     "text": [
      "Counter({'s': 1, 't': 1, 'o': 1, 'r': 1, 'e': 1})\n"
     ]
    },
    {
     "data": {
      "text/plain": [
       "Counter({'s': 1, 't': 2, 'o': 2, 'r': 1, 'e': 2})"
      ]
     },
     "execution_count": 5,
     "metadata": {},
     "output_type": "execute_result"
    }
   ],
   "source": [
    "from collections import Counter\n",
    "c = Counter('store')\n",
    "print(c)\n",
    "# Counter({'s': 1, 't': 1, 'o': 1, 'r': 1, 'e': 1})\n",
    "c + Counter('toe')\n",
    "# Counter({'s': 1, 't': 2, 'o': 2, 'r': 1, 'e': 2})"
   ]
  },
  {
   "cell_type": "markdown",
   "metadata": {},
   "source": [
    "Q06. Collections - defaultdict"
   ]
  },
  {
   "cell_type": "code",
   "execution_count": 6,
   "metadata": {},
   "outputs": [
    {
     "name": "stdout",
     "output_type": "stream",
     "text": [
      "defaultdict(<class 'list'>, {'red': [1, 2], 'blue': [1]})\n",
      "defaultdict(<class 'int'>, {'red': 3, 'blue': 1})\n"
     ]
    }
   ],
   "source": [
    "from collections import defaultdict\n",
    "\n",
    "s = [('red', 1), ('blue', 1), ('red', 2)]\n",
    "d_list = defaultdict(list)\n",
    "for k, v in s:\n",
    "    d_list[k].append(v)\n",
    "print(d_list)\n",
    "# defaultdict(<class 'list'>, {'red': [1, 2], 'blue': [1]})\n",
    "d_count = defaultdict(int)\n",
    "for k, v in s:\n",
    "    d_count[k] += v\n",
    "print(d_count)\n",
    "# defaultdict(<class 'int'>, {'red': 3, 'blue': 1})"
   ]
  },
  {
   "cell_type": "markdown",
   "metadata": {},
   "source": [
    "Q07. Collections - deque"
   ]
  },
  {
   "cell_type": "code",
   "execution_count": 7,
   "metadata": {},
   "outputs": [
    {
     "name": "stdout",
     "output_type": "stream",
     "text": [
      "deque(['h', 'e', 'l', 'l'])\n",
      "deque(['s', 'h', 'e', 'l', 'l'])\n",
      "deque(['h', 'e', 'l', 'l'])\n",
      "deque(['h', 'e', 'l'])\n"
     ]
    }
   ],
   "source": [
    "from collections import deque\n",
    "\n",
    "d = collections.deque('hel')\n",
    "d.append('l')\n",
    "print(d)  # deque(['h', 'e', 'l', 'l'])\n",
    "d.appendleft('s')\n",
    "print(d)  # deque(['s', 'h', 'e', 'l', 'l'])\n",
    "d.popleft()\n",
    "print(d)  # deque(['h', 'e', 'l', 'l'])\n",
    "d.pop()\n",
    "print(d)  # deque(['h', 'e', 'l'])"
   ]
  },
  {
   "cell_type": "markdown",
   "metadata": {},
   "source": [
    "Q08. Collections - namedtuple"
   ]
  },
  {
   "cell_type": "code",
   "execution_count": 8,
   "metadata": {},
   "outputs": [
    {
     "name": "stdout",
     "output_type": "stream",
     "text": [
      "Person(name='Rob', age=12)\n",
      "Rob 12\n"
     ]
    },
    {
     "data": {
      "text/plain": [
       "['Rob', 12]"
      ]
     },
     "execution_count": 8,
     "metadata": {},
     "output_type": "execute_result"
    }
   ],
   "source": [
    "from collections import namedtuple\n",
    "\n",
    "Person = namedtuple('Person', 'name age')\n",
    "rob = Person(name='Rob', age=12)\n",
    "print(rob)  # Person(name='Rob', age=12)\n",
    "print(rob.name, rob.age)  # Rob 12\n",
    "[item for item in rob]  # ['Rob', 12]"
   ]
  },
  {
   "cell_type": "markdown",
   "metadata": {},
   "source": [
    "Q09. heapq - binary min-heap"
   ]
  },
  {
   "cell_type": "code",
   "execution_count": 9,
   "metadata": {},
   "outputs": [
    {
     "name": "stdout",
     "output_type": "stream",
     "text": [
      "['4']\n",
      "['3', '4']\n",
      "['3', '4', '5']\n",
      "['2', '3', '5', '4']\n",
      "['1', '2', '5', '4', '3']\n"
     ]
    }
   ],
   "source": [
    "import heapq\n",
    "# heapq implements a binary heap that works\n",
    "# with lists and implements min-heap where\n",
    "# parent <= both children\n",
    "# children of node N is at 2 * N + 1, 2 * N + 2\n",
    "data = '43521'\n",
    "l = []\n",
    "for item in data:\n",
    "    heapq.heappush(l, item)\n",
    "    print(l)\n",
    "# ['4']\n",
    "# ['3', '4']\n",
    "# ['3', '4', '5']\n",
    "# ['2', '3', '5', '4']\n",
    "# ['1', '2', '5', '4', '3']"
   ]
  },
  {
   "cell_type": "markdown",
   "metadata": {},
   "source": [
    "Q10. bisect"
   ]
  },
  {
   "cell_type": "code",
   "execution_count": 10,
   "metadata": {},
   "outputs": [
    {
     "name": "stdout",
     "output_type": "stream",
     "text": [
      "['4']\n",
      "['3', '4']\n",
      "['3', '4', '5']\n",
      "['2', '3', '4', '5']\n",
      "['1', '2', '3', '4', '5']\n"
     ]
    }
   ],
   "source": [
    "import bisect\n",
    "# bisect maintains lists in sorted order\n",
    "data = '43521'\n",
    "l = []\n",
    "for item in data:\n",
    "    bisect.insort(l, item)\n",
    "    print(l)\n",
    "# ['4']\n",
    "# ['3', '4']\n",
    "# ['3', '4', '5']\n",
    "# ['2', '3', '4', '5']\n",
    "# ['1', '2', '3', '4', '5']"
   ]
  },
  {
   "cell_type": "markdown",
   "metadata": {},
   "source": [
    "Q11. queue"
   ]
  },
  {
   "cell_type": "code",
   "execution_count": 11,
   "metadata": {},
   "outputs": [
    {
     "name": "stdout",
     "output_type": "stream",
     "text": [
      "0 1 2 3 4 \n",
      "4 3 2 1 0 "
     ]
    }
   ],
   "source": [
    "import queue\n",
    "\n",
    "q_fifo = queue.Queue()\n",
    "q_lifo = queue.LifoQueue()\n",
    "\n",
    "for i in range(5):\n",
    "    q_fifo.put(i)\n",
    "    q_lifo.put(i)\n",
    "\n",
    "while not q_fifo.empty():\n",
    "    print(q_fifo.get(), end=' ')\n",
    "print()\n",
    "\n",
    "while not q_lifo.empty():\n",
    "    print(q_lifo.get(), end=' ')\n",
    "    \n",
    "# 0 1 2 3 4\n",
    "# 4 3 2 1 0"
   ]
  },
  {
   "cell_type": "markdown",
   "metadata": {},
   "source": [
    "Q12. copy"
   ]
  },
  {
   "cell_type": "code",
   "execution_count": 12,
   "metadata": {},
   "outputs": [
    {
     "name": "stdout",
     "output_type": "stream",
     "text": [
      "True\n",
      "False\n"
     ]
    }
   ],
   "source": [
    "import copy\n",
    "a = [2, 3]\n",
    "a_copy = copy.copy([1, a])\n",
    "print(a_copy[1] is a)  # True\n",
    "\n",
    "a_deepcopy = copy.deepcopy([1, a])\n",
    "print(a_deepcopy[1] is a)  # False"
   ]
  },
  {
   "cell_type": "markdown",
   "metadata": {},
   "source": [
    "Q13. functools"
   ]
  },
  {
   "cell_type": "code",
   "execution_count": 13,
   "metadata": {},
   "outputs": [
    {
     "name": "stdout",
     "output_type": "stream",
     "text": [
      "myfunc_int(3)\n",
      "myfunc_list([1, 2])\n",
      "default myfunc('abc')\n"
     ]
    }
   ],
   "source": [
    "from functools import partial\n",
    "int('10', base=2), int('10')\n",
    "# (2, 10)\n",
    "\n",
    "int_2 = partial(int, base=2)\n",
    "int_2('10')\n",
    "# 2\n",
    "\n",
    "from functools import reduce\n",
    "reduce(lambda x, y: x+y, [1, 2, 3])\n",
    "# 6\n",
    "\n",
    "from functools import singledispatch\n",
    "\n",
    "# different function called based on type\n",
    "@singledispatch\n",
    "def myfunc(arg):\n",
    "    print('default myfunc({!r})'.format(arg))\n",
    "\n",
    "@myfunc.register(int)\n",
    "def myfunc_int(arg):\n",
    "    print('myfunc_int({})'.format(arg))\n",
    "\n",
    "@myfunc.register(list)\n",
    "def myfunc_list(arg):\n",
    "    print('myfunc_list({})'.format(arg))\n",
    "\n",
    "myfunc(3)\n",
    "myfunc([1, 2])\n",
    "myfunc('abc')\n",
    "\n",
    "# myfunc_int(3)\n",
    "# myfunc_list([1, 2])\n",
    "# default myfunc('abc'"
   ]
  },
  {
   "cell_type": "markdown",
   "metadata": {},
   "source": [
    "Q14. itertools"
   ]
  },
  {
   "cell_type": "code",
   "execution_count": 14,
   "metadata": {},
   "outputs": [
    {
     "data": {
      "text/plain": [
       "<itertools.combinations at 0x7fd5f82bb688>"
      ]
     },
     "execution_count": 14,
     "metadata": {},
     "output_type": "execute_result"
    }
   ],
   "source": [
    "from itertools import *\n",
    "import operator\n",
    "# count(10) --> 10 11 12 ...\n",
    "# cycle('AB') --> A B A B\n",
    "# repeat(10, 3) --> 10 10 10\n",
    "# accumulate([1, 2, 3], operator.add)\n",
    "# 1 3 5\n",
    "\n",
    "# chain('AB', 'CDE') --> A B C D E\n",
    "# compress('ABC', [1, 0, 1]) --> A C\n",
    "# dropwhile(lambda x: x < 5, [1, 6]) --> 6\n",
    "# takewhile(lambda x: x < 5, [1, 6]) --> 1\n",
    "# filter(lambda x: x % 2, range(3)) --> 1\n",
    "# filterfalse(lambda x: x % 2, range(3)) --> 0 2\n",
    "# islice('ABCDE', 1, 4, 2) --> B D\n",
    "# starmap(pow, [(2,5), (3,2)]) --> 32 9\n",
    "\n",
    "# [k for k, g in groupby('AABBBC')] --> A B C\n",
    "# [list(g) for k, g in groupby('AABBBC')] --> AA BBB C\n",
    "\n",
    "product('ABC', repeat=2)\n",
    "# AA AB AC BA BB BC CA CB CC\n",
    "\n",
    "permutations('ABC', 2)\n",
    "# AB AC BA BC CA CB\n",
    "\n",
    "combinations('ABC', 2)\n",
    "# AB AC BC"
   ]
  },
  {
   "cell_type": "markdown",
   "metadata": {},
   "source": [
    "Q15. operator"
   ]
  },
  {
   "cell_type": "markdown",
   "metadata": {},
   "source": [
    "Q16. contextlib"
   ]
  },
  {
   "cell_type": "code",
   "execution_count": 62,
   "metadata": {},
   "outputs": [],
   "source": [
    "def print_log1(f):\n",
    "    def inner(*args, **kwargs):\n",
    "        print('in function:', f.__name__)\n",
    "        return f(*args, **kwargs)\n",
    "    return inner\n",
    "\n",
    "@print_log1\n",
    "def add1(x, y):\n",
    "    print(x + y)\n",
    "    \n",
    "add1(3, 4)\n",
    "# in function: add1\n",
    "# 7"
   ]
  },
  {
   "cell_type": "code",
   "execution_count": 72,
   "metadata": {},
   "outputs": [
    {
     "name": "stdout",
     "output_type": "stream",
     "text": [
      "in function: add2 trace\n",
      "7\n"
     ]
    }
   ],
   "source": [
    "def print_log2(message):\n",
    "    def decorator(f):\n",
    "        def inner(*args, **kwargs):\n",
    "            print('in function:', f.__name__, message)\n",
    "            return f(*args, **kwargs)\n",
    "        return inner\n",
    "    return decorator\n",
    "\n",
    "@print_log2('trace')\n",
    "def add2(x, y):\n",
    "    print(x + y)\n",
    "    \n",
    "add2(3, 4)\n",
    "# in function: add2 trace\n",
    "# 7"
   ]
  },
  {
   "cell_type": "code",
   "execution_count": null,
   "metadata": {},
   "outputs": [],
   "source": []
  }
 ],
 "metadata": {
  "kernelspec": {
   "display_name": "Python 3",
   "language": "python",
   "name": "python3"
  },
  "language_info": {
   "codemirror_mode": {
    "name": "ipython",
    "version": 3
   },
   "file_extension": ".py",
   "mimetype": "text/x-python",
   "name": "python",
   "nbconvert_exporter": "python",
   "pygments_lexer": "ipython3",
   "version": "3.6.7"
  }
 },
 "nbformat": 4,
 "nbformat_minor": 2
}
