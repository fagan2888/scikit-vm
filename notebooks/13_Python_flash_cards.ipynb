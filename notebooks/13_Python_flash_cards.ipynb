{
 "cells": [
  {
   "cell_type": "markdown",
   "metadata": {},
   "source": [
    "Q01. Strings: split join"
   ]
  },
  {
   "cell_type": "code",
   "execution_count": 49,
   "metadata": {},
   "outputs": [
    {
     "data": {
      "text/plain": [
       "'lock, stock, barrel'"
      ]
     },
     "execution_count": 49,
     "metadata": {},
     "output_type": "execute_result"
    }
   ],
   "source": [
    "str = 'lock stock barrel'\n",
    "words = str.split(' ')\n",
    "words\n",
    "# ['lock', 'stock', 'barrel']\n",
    "', '.join(words)\n",
    "# ['lock', 'stock', 'barrel']"
   ]
  },
  {
   "cell_type": "markdown",
   "metadata": {},
   "source": [
    "Q02. Regular expressions"
   ]
  },
  {
   "cell_type": "code",
   "execution_count": 50,
   "metadata": {},
   "outputs": [
    {
     "name": "stdout",
     "output_type": "stream",
     "text": [
      "'ab' at 0:2\n",
      "'ab' at 5:7\n"
     ]
    }
   ],
   "source": [
    "'''\n",
    "('ab*', 'a followed by zero or more b'),\n",
    "('ab+', 'a followed by one or more b'),\n",
    "('ab?', 'a followed by zero or one b'),\n",
    "('ab{3}', 'a followed by three b'),\n",
    "('ab{2,3}', 'a followed by two to three b')\n",
    "'''\n",
    "\n",
    "import re\n",
    "text = 'abbaaabbbbaaaaa'\n",
    "pat = 'ab'  # pattern\n",
    "\n",
    "for match in re.finditer(pat, text):\n",
    "    s = match.start()\n",
    "    e = match.end()\n",
    "    print('{!r} at {:d}:{:d}'.format(\n",
    "        text[s:e], s, e))\n",
    "# 'ab' at 0:2\n",
    "# 'ab' at 5:7"
   ]
  },
  {
   "cell_type": "markdown",
   "metadata": {},
   "source": [
    "Q03. Enumerations"
   ]
  },
  {
   "cell_type": "code",
   "execution_count": 51,
   "metadata": {},
   "outputs": [
    {
     "data": {
      "text/plain": [
       "[('wont_fix', 1), ('closed', 2), ('new', 3)]"
      ]
     },
     "execution_count": 51,
     "metadata": {},
     "output_type": "execute_result"
    }
   ],
   "source": [
    "import enum\n",
    "\n",
    "class BugStatus(enum.Enum):\n",
    "    new = 3\n",
    "    invalid = 2\n",
    "    wont_fix = 1\n",
    "\n",
    "[(st.name, st.value) for st in BugStatus]\n",
    "\n",
    "# TypeError: '<' not supported between\n",
    "# instances of 'BugStatus' and 'BugStatus'\n",
    "# [st.value for st in sorted(BugStatus)]\n",
    "\n",
    "class BugStatusInt(enum.IntEnum):\n",
    "    new = 3\n",
    "    invalid = 2\n",
    "    wont_fix = 1\n",
    "\n",
    "# works fine\n",
    "[st.value for st in sorted(BugStatusInt)]\n",
    "\n",
    "# dynamically create enum\n",
    "BugStatus = enum.Enum(\n",
    "    value='BugStatus',\n",
    "    names=('wont_fix closed new'))\n",
    "\n",
    "[(st.name, st.value) for st in BugStatus]\n",
    "# [('wont_fix', 1), ('closed', 2), ('new', 3)]"
   ]
  },
  {
   "cell_type": "markdown",
   "metadata": {},
   "source": [
    "Q04. Collections - ChainMap"
   ]
  },
  {
   "cell_type": "code",
   "execution_count": 52,
   "metadata": {},
   "outputs": [
    {
     "data": {
      "text/plain": [
       "[('a', 'A'), ('b', 'B'), ('c', 'C')]"
      ]
     },
     "execution_count": 52,
     "metadata": {},
     "output_type": "execute_result"
    }
   ],
   "source": [
    "import collections\n",
    "\n",
    "a = {'a': 'A', 'c': 'C'}\n",
    "b = {'b': 'B', 'c': 'D'}\n",
    "\n",
    "# search through dictionaries\n",
    "# in order\n",
    "m = collections.ChainMap(a, b)\n",
    "\n",
    "[(k, v) for k, v in m.items()]\n",
    "# [('c', 'C'), ('b', 'B'), ('a', 'A')]"
   ]
  },
  {
   "cell_type": "markdown",
   "metadata": {},
   "source": [
    "Q05. Collections - Counter"
   ]
  },
  {
   "cell_type": "code",
   "execution_count": 53,
   "metadata": {},
   "outputs": [
    {
     "name": "stdout",
     "output_type": "stream",
     "text": [
      "WithinContext.__del__\n",
      "Counter({'s': 1, 't': 1, 'o': 1, 'r': 1, 'e': 1})\n"
     ]
    },
    {
     "data": {
      "text/plain": [
       "Counter({'s': 1, 't': 2, 'o': 2, 'r': 1, 'e': 2})"
      ]
     },
     "execution_count": 53,
     "metadata": {},
     "output_type": "execute_result"
    }
   ],
   "source": [
    "from collections import Counter\n",
    "c = Counter('store')\n",
    "print(c)\n",
    "# Counter({'s': 1, 't': 1, 'o': 1, 'r': 1, 'e': 1})\n",
    "c + Counter('toe')\n",
    "# Counter({'s': 1, 't': 2, 'o': 2, 'r': 1, 'e': 2})"
   ]
  },
  {
   "cell_type": "markdown",
   "metadata": {},
   "source": [
    "Q06. Collections - defaultdict"
   ]
  },
  {
   "cell_type": "code",
   "execution_count": 54,
   "metadata": {},
   "outputs": [
    {
     "name": "stdout",
     "output_type": "stream",
     "text": [
      "defaultdict(<class 'list'>, {'red': [1, 2], 'blue': [1]})\n",
      "defaultdict(<class 'int'>, {'red': 3, 'blue': 1})\n"
     ]
    }
   ],
   "source": [
    "from collections import defaultdict\n",
    "\n",
    "s = [('red', 1), ('blue', 1), ('red', 2)]\n",
    "d_list = defaultdict(list)\n",
    "for k, v in s:\n",
    "    d_list[k].append(v)\n",
    "print(d_list)\n",
    "# defaultdict(<class 'list'>, {'red': [1, 2], 'blue': [1]})\n",
    "d_count = defaultdict(int)\n",
    "for k, v in s:\n",
    "    d_count[k] += v\n",
    "print(d_count)\n",
    "# defaultdict(<class 'int'>, {'red': 3, 'blue': 1})"
   ]
  },
  {
   "cell_type": "markdown",
   "metadata": {},
   "source": [
    "Q07. Collections - deque"
   ]
  },
  {
   "cell_type": "code",
   "execution_count": 55,
   "metadata": {},
   "outputs": [
    {
     "name": "stdout",
     "output_type": "stream",
     "text": [
      "deque(['h', 'e', 'l', 'l'])\n",
      "deque(['s', 'h', 'e', 'l', 'l'])\n",
      "deque(['h', 'e', 'l', 'l'])\n",
      "deque(['h', 'e', 'l'])\n"
     ]
    }
   ],
   "source": [
    "from collections import deque\n",
    "\n",
    "d = collections.deque('hel')\n",
    "d.append('l')\n",
    "print(d)  # deque(['h', 'e', 'l', 'l'])\n",
    "d.appendleft('s')\n",
    "print(d)  # deque(['s', 'h', 'e', 'l', 'l'])\n",
    "d.popleft()\n",
    "print(d)  # deque(['h', 'e', 'l', 'l'])\n",
    "d.pop()\n",
    "print(d)  # deque(['h', 'e', 'l'])"
   ]
  },
  {
   "cell_type": "markdown",
   "metadata": {},
   "source": [
    "Q08. Collections - namedtuple"
   ]
  },
  {
   "cell_type": "code",
   "execution_count": 56,
   "metadata": {},
   "outputs": [
    {
     "name": "stdout",
     "output_type": "stream",
     "text": [
      "Person(name='Rob', age=12)\n",
      "Rob 12\n"
     ]
    },
    {
     "data": {
      "text/plain": [
       "['Rob', 12]"
      ]
     },
     "execution_count": 56,
     "metadata": {},
     "output_type": "execute_result"
    }
   ],
   "source": [
    "from collections import namedtuple\n",
    "\n",
    "Person = namedtuple('Person', 'name age')\n",
    "rob = Person(name='Rob', age=12)\n",
    "print(rob)  # Person(name='Rob', age=12)\n",
    "print(rob.name, rob.age)  # Rob 12\n",
    "[item for item in rob]  # ['Rob', 12]"
   ]
  },
  {
   "cell_type": "markdown",
   "metadata": {},
   "source": [
    "Q09. heapq - binary min-heap"
   ]
  },
  {
   "cell_type": "code",
   "execution_count": 57,
   "metadata": {},
   "outputs": [
    {
     "name": "stdout",
     "output_type": "stream",
     "text": [
      "['4']\n",
      "['3', '4']\n",
      "['3', '4', '5']\n",
      "['2', '3', '5', '4']\n",
      "['1', '2', '5', '4', '3']\n"
     ]
    }
   ],
   "source": [
    "import heapq\n",
    "# heapq implements a binary heap that works\n",
    "# with lists and implements min-heap where\n",
    "# parent <= both children\n",
    "# children of node N is at 2 * N + 1, 2 * N + 2\n",
    "data = '43521'\n",
    "l = []\n",
    "for item in data:\n",
    "    heapq.heappush(l, item)\n",
    "    print(l)\n",
    "# ['4']\n",
    "# ['3', '4']\n",
    "# ['3', '4', '5']\n",
    "# ['2', '3', '5', '4']\n",
    "# ['1', '2', '5', '4', '3']"
   ]
  },
  {
   "cell_type": "markdown",
   "metadata": {},
   "source": [
    "Q10. bisect"
   ]
  },
  {
   "cell_type": "code",
   "execution_count": 58,
   "metadata": {},
   "outputs": [
    {
     "name": "stdout",
     "output_type": "stream",
     "text": [
      "['4']\n",
      "['3', '4']\n",
      "['3', '4', '5']\n",
      "['2', '3', '4', '5']\n",
      "['1', '2', '3', '4', '5']\n"
     ]
    }
   ],
   "source": [
    "import bisect\n",
    "# bisect maintains lists in sorted order\n",
    "data = '43521'\n",
    "l = []\n",
    "for item in data:\n",
    "    bisect.insort(l, item)\n",
    "    print(l)\n",
    "# ['4']\n",
    "# ['3', '4']\n",
    "# ['3', '4', '5']\n",
    "# ['2', '3', '4', '5']\n",
    "# ['1', '2', '3', '4', '5']"
   ]
  },
  {
   "cell_type": "markdown",
   "metadata": {},
   "source": [
    "Q11. queue"
   ]
  },
  {
   "cell_type": "code",
   "execution_count": 59,
   "metadata": {},
   "outputs": [
    {
     "name": "stdout",
     "output_type": "stream",
     "text": [
      "0 1 2 3 4 \n",
      "4 3 2 1 0 "
     ]
    }
   ],
   "source": [
    "import queue\n",
    "\n",
    "q_fifo = queue.Queue()\n",
    "q_lifo = queue.LifoQueue()\n",
    "\n",
    "for i in range(5):\n",
    "    q_fifo.put(i)\n",
    "    q_lifo.put(i)\n",
    "\n",
    "while not q_fifo.empty():\n",
    "    print(q_fifo.get(), end=' ')\n",
    "print()\n",
    "\n",
    "while not q_lifo.empty():\n",
    "    print(q_lifo.get(), end=' ')\n",
    "    \n",
    "# 0 1 2 3 4\n",
    "# 4 3 2 1 0"
   ]
  },
  {
   "cell_type": "markdown",
   "metadata": {},
   "source": [
    "Q12. copy"
   ]
  },
  {
   "cell_type": "code",
   "execution_count": 60,
   "metadata": {},
   "outputs": [
    {
     "name": "stdout",
     "output_type": "stream",
     "text": [
      "True\n",
      "False\n"
     ]
    }
   ],
   "source": [
    "import copy\n",
    "a = [2, 3]\n",
    "a_copy = copy.copy([1, a])\n",
    "print(a_copy[1] is a)  # True\n",
    "\n",
    "a_deepcopy = copy.deepcopy([1, a])\n",
    "print(a_deepcopy[1] is a)  # False"
   ]
  },
  {
   "cell_type": "markdown",
   "metadata": {},
   "source": [
    "Q13. functools"
   ]
  },
  {
   "cell_type": "code",
   "execution_count": 61,
   "metadata": {},
   "outputs": [
    {
     "name": "stdout",
     "output_type": "stream",
     "text": [
      "myfunc_int(3)\n",
      "myfunc_list([1, 2])\n",
      "default myfunc('abc')\n"
     ]
    }
   ],
   "source": [
    "from functools import partial\n",
    "int('10', base=2), int('10')\n",
    "# (2, 10)\n",
    "\n",
    "int_2 = partial(int, base=2)\n",
    "int_2('10')\n",
    "# 2\n",
    "\n",
    "from functools import reduce\n",
    "reduce(lambda x, y: x+y, [1, 2, 3])\n",
    "# 6\n",
    "\n",
    "from functools import singledispatch\n",
    "\n",
    "# different function called based on type\n",
    "@singledispatch\n",
    "def myfunc(arg):\n",
    "    print('default myfunc({!r})'.format(arg))\n",
    "\n",
    "@myfunc.register(int)\n",
    "def myfunc_int(arg):\n",
    "    print('myfunc_int({})'.format(arg))\n",
    "\n",
    "@myfunc.register(list)\n",
    "def myfunc_list(arg):\n",
    "    print('myfunc_list({})'.format(arg))\n",
    "\n",
    "myfunc(3)\n",
    "myfunc([1, 2])\n",
    "myfunc('abc')\n",
    "\n",
    "# myfunc_int(3)\n",
    "# myfunc_list([1, 2])\n",
    "# default myfunc('abc'"
   ]
  },
  {
   "cell_type": "markdown",
   "metadata": {},
   "source": [
    "Q14. itertools"
   ]
  },
  {
   "cell_type": "code",
   "execution_count": 62,
   "metadata": {},
   "outputs": [
    {
     "data": {
      "text/plain": [
       "<itertools.combinations at 0x7fa4e8534228>"
      ]
     },
     "execution_count": 62,
     "metadata": {},
     "output_type": "execute_result"
    }
   ],
   "source": [
    "from itertools import *\n",
    "import operator\n",
    "# count(10) --> 10 11 12 ...\n",
    "# cycle('AB') --> A B A B\n",
    "# repeat(10, 3) --> 10 10 10\n",
    "# accumulate([1, 2, 3], operator.add)\n",
    "# 1 3 5\n",
    "\n",
    "# chain('AB', 'CDE') --> A B C D E\n",
    "# compress('ABC', [1, 0, 1]) --> A C\n",
    "# dropwhile(lambda x: x < 5, [1, 6]) --> 6\n",
    "# takewhile(lambda x: x < 5, [1, 6]) --> 1\n",
    "# filter(lambda x: x % 2, range(3)) --> 1\n",
    "# filterfalse(lambda x: x % 2, range(3)) --> 0 2\n",
    "# islice('ABCDE', 1, 4, 2) --> B D\n",
    "# starmap(pow, [(2,5), (3,2)]) --> 32 9\n",
    "\n",
    "# [k for k, g in groupby('AABBBC')] --> A B C\n",
    "# [list(g) for k, g in groupby('AABBBC')] --> AA BBB C\n",
    "\n",
    "product('ABC', repeat=2)\n",
    "# AA AB AC BA BB BC CA CB CC\n",
    "\n",
    "permutations('ABC', 2)\n",
    "# AB AC BA BC CA CB\n",
    "\n",
    "combinations('ABC', 2)  # AB AC BC"
   ]
  },
  {
   "cell_type": "markdown",
   "metadata": {},
   "source": [
    "Q15. contextlib"
   ]
  },
  {
   "cell_type": "code",
   "execution_count": 63,
   "metadata": {},
   "outputs": [
    {
     "name": "stdout",
     "output_type": "stream",
     "text": [
      "__init__()\n",
      "Context.__enter__()\n",
      "  WithinContext.do_something()\n",
      "Context.__exit__()\n",
      "__init__(as decorator)\n",
      "__init__(as context manager)\n",
      "__enter__(as context manager)\n",
      "Doing work in the context\n",
      "__exit__(as context manager)\n",
      "__enter__(as decorator)\n",
      "Doing work in the wrapped function\n",
      "__exit__(as decorator)\n",
      "entering\n",
      "inside with statement: {}\n",
      "exiting\n"
     ]
    }
   ],
   "source": [
    "class WithinContext:\n",
    "    def do_something(self):\n",
    "        print('  WithinContext.do_something()')\n",
    "\n",
    "class Context:\n",
    "    def __init__(self):\n",
    "        print('__init__()')\n",
    "    def __enter__(self):\n",
    "        print('Context.__enter__()')\n",
    "        return WithinContext()\n",
    "    def __exit__(self, exc_type, exc_val, exc_tb):\n",
    "        print('Context.__exit__()')\n",
    "\n",
    "with Context() as d:\n",
    "    d.do_something()\n",
    "    \n",
    "# Context Managers as Function Decorators\n",
    "import contextlib\n",
    "\n",
    "class Context(contextlib.ContextDecorator):\n",
    "    def __init__(self, how_used):\n",
    "        self.how_used = how_used\n",
    "        print('__init__({})'.format(how_used))\n",
    "    def __enter__(self):\n",
    "        print('__enter__({})'.format(self.how_used))\n",
    "        return self\n",
    "    def __exit__(self, exc_type, exc_val, exc_tb):\n",
    "        print('__exit__({})'.format(self.how_used))\n",
    "\n",
    "@Context('as decorator')\n",
    "def func(message):\n",
    "    print(message)\n",
    "\n",
    "with Context('as context manager'):\n",
    "    print('Doing work in the context')\n",
    "\n",
    "func('Doing work in the wrapped function')\n",
    "\n",
    "# Generators as context managers\n",
    "@contextlib.contextmanager\n",
    "def make_context():\n",
    "    print('entering')\n",
    "    try:\n",
    "        yield {}\n",
    "    finally:\n",
    "        print('exiting')\n",
    "\n",
    "with make_context() as value:\n",
    "    print('inside with statement:', value)"
   ]
  },
  {
   "cell_type": "markdown",
   "metadata": {},
   "source": [
    "Q16. decorators"
   ]
  },
  {
   "cell_type": "code",
   "execution_count": 64,
   "metadata": {},
   "outputs": [
    {
     "name": "stdout",
     "output_type": "stream",
     "text": [
      "in function: add1\n",
      "7\n",
      "in function: add2 trace\n",
      "7\n"
     ]
    }
   ],
   "source": [
    "def print_log1(f):\n",
    "    def inner(*args, **kwargs):\n",
    "        print('in function:', f.__name__)\n",
    "        return f(*args, **kwargs)\n",
    "    return inner\n",
    "\n",
    "@print_log1\n",
    "def add1(x, y):\n",
    "    print(x + y)\n",
    "    \n",
    "add1(3, 4)\n",
    "# in function: add1\n",
    "# 7\n",
    "\n",
    "def print_log2(message):\n",
    "    def decorator(f):\n",
    "        def inner(*args, **kwargs):\n",
    "            print('in function:', f.__name__, message)\n",
    "            return f(*args, **kwargs)\n",
    "        return inner\n",
    "    return decorator\n",
    "\n",
    "@print_log2('trace')\n",
    "def add2(x, y):\n",
    "    print(x + y)\n",
    "    \n",
    "add2(3, 4)\n",
    "# in function: add2 trace\n",
    "# 7"
   ]
  },
  {
   "cell_type": "markdown",
   "metadata": {},
   "source": [
    "Q17. Generators"
   ]
  },
  {
   "cell_type": "code",
   "execution_count": 65,
   "metadata": {},
   "outputs": [],
   "source": [
    "# generator defined using a function\n",
    "def seq(n):\n",
    "    for i in range(n):\n",
    "        yield i\n",
    "\n",
    "# using a generator\n",
    "list(seq(3))\n",
    "# [0, 1, 2]\n",
    "\n",
    "# generator expression\n",
    "list(i for i in range(3))\n",
    "# [0, 1, 2]\n",
    "\n",
    "gen = seq(3)\n",
    "next(gen)  # 0\n",
    "next(gen)  # 1\n",
    "next(gen)  # 2\n",
    "\n",
    "# using a class\n",
    "class Seq:\n",
    "    def __init__(self, n):\n",
    "        self.n = n\n",
    "    def __iter__(self):\n",
    "        self.val = 0\n",
    "        return self\n",
    "    def __next__(self):\n",
    "        if self.val >= self.n:\n",
    "            raise StopIteration\n",
    "\n",
    "        result = self.val\n",
    "        self.val += 1\n",
    "        return result"
   ]
  },
  {
   "cell_type": "markdown",
   "metadata": {},
   "source": [
    "Q18. Asyncio"
   ]
  },
  {
   "cell_type": "code",
   "execution_count": 66,
   "metadata": {},
   "outputs": [
    {
     "ename": "RuntimeError",
     "evalue": "This event loop is already running",
     "output_type": "error",
     "traceback": [
      "\u001b[0;31m---------------------------------------------------------------------------\u001b[0m",
      "\u001b[0;31mRuntimeError\u001b[0m                              Traceback (most recent call last)",
      "\u001b[0;32m<ipython-input-66-2746a59fc250>\u001b[0m in \u001b[0;36m<module>\u001b[0;34m()\u001b[0m\n\u001b[1;32m     22\u001b[0m \u001b[0;31m# Before Python 3.7\u001b[0m\u001b[0;34m\u001b[0m\u001b[0;34m\u001b[0m\u001b[0;34m\u001b[0m\u001b[0m\n\u001b[1;32m     23\u001b[0m \u001b[0mloop\u001b[0m \u001b[0;34m=\u001b[0m \u001b[0masyncio\u001b[0m\u001b[0;34m.\u001b[0m\u001b[0mget_event_loop\u001b[0m\u001b[0;34m(\u001b[0m\u001b[0;34m)\u001b[0m\u001b[0;34m\u001b[0m\u001b[0;34m\u001b[0m\u001b[0m\n\u001b[0;32m---> 24\u001b[0;31m \u001b[0mloop\u001b[0m\u001b[0;34m.\u001b[0m\u001b[0mrun_until_complete\u001b[0m\u001b[0;34m(\u001b[0m\u001b[0mmain\u001b[0m\u001b[0;34m(\u001b[0m\u001b[0;34m)\u001b[0m\u001b[0;34m)\u001b[0m\u001b[0;34m\u001b[0m\u001b[0;34m\u001b[0m\u001b[0m\n\u001b[0m\u001b[1;32m     25\u001b[0m \u001b[0mloop\u001b[0m\u001b[0;34m.\u001b[0m\u001b[0mclose\u001b[0m\u001b[0;34m(\u001b[0m\u001b[0;34m)\u001b[0m\u001b[0;34m\u001b[0m\u001b[0;34m\u001b[0m\u001b[0m\n",
      "\u001b[0;32m/usr/lib/python3.6/asyncio/base_events.py\u001b[0m in \u001b[0;36mrun_until_complete\u001b[0;34m(self, future)\u001b[0m\n\u001b[1;32m    458\u001b[0m         \u001b[0mfuture\u001b[0m\u001b[0;34m.\u001b[0m\u001b[0madd_done_callback\u001b[0m\u001b[0;34m(\u001b[0m\u001b[0m_run_until_complete_cb\u001b[0m\u001b[0;34m)\u001b[0m\u001b[0;34m\u001b[0m\u001b[0;34m\u001b[0m\u001b[0m\n\u001b[1;32m    459\u001b[0m         \u001b[0;32mtry\u001b[0m\u001b[0;34m:\u001b[0m\u001b[0;34m\u001b[0m\u001b[0;34m\u001b[0m\u001b[0m\n\u001b[0;32m--> 460\u001b[0;31m             \u001b[0mself\u001b[0m\u001b[0;34m.\u001b[0m\u001b[0mrun_forever\u001b[0m\u001b[0;34m(\u001b[0m\u001b[0;34m)\u001b[0m\u001b[0;34m\u001b[0m\u001b[0;34m\u001b[0m\u001b[0m\n\u001b[0m\u001b[1;32m    461\u001b[0m         \u001b[0;32mexcept\u001b[0m\u001b[0;34m:\u001b[0m\u001b[0;34m\u001b[0m\u001b[0;34m\u001b[0m\u001b[0m\n\u001b[1;32m    462\u001b[0m             \u001b[0;32mif\u001b[0m \u001b[0mnew_task\u001b[0m \u001b[0;32mand\u001b[0m \u001b[0mfuture\u001b[0m\u001b[0;34m.\u001b[0m\u001b[0mdone\u001b[0m\u001b[0;34m(\u001b[0m\u001b[0;34m)\u001b[0m \u001b[0;32mand\u001b[0m \u001b[0;32mnot\u001b[0m \u001b[0mfuture\u001b[0m\u001b[0;34m.\u001b[0m\u001b[0mcancelled\u001b[0m\u001b[0;34m(\u001b[0m\u001b[0;34m)\u001b[0m\u001b[0;34m:\u001b[0m\u001b[0;34m\u001b[0m\u001b[0;34m\u001b[0m\u001b[0m\n",
      "\u001b[0;32m/usr/lib/python3.6/asyncio/base_events.py\u001b[0m in \u001b[0;36mrun_forever\u001b[0;34m(self)\u001b[0m\n\u001b[1;32m    412\u001b[0m         \u001b[0mself\u001b[0m\u001b[0;34m.\u001b[0m\u001b[0m_check_closed\u001b[0m\u001b[0;34m(\u001b[0m\u001b[0;34m)\u001b[0m\u001b[0;34m\u001b[0m\u001b[0;34m\u001b[0m\u001b[0m\n\u001b[1;32m    413\u001b[0m         \u001b[0;32mif\u001b[0m \u001b[0mself\u001b[0m\u001b[0;34m.\u001b[0m\u001b[0mis_running\u001b[0m\u001b[0;34m(\u001b[0m\u001b[0;34m)\u001b[0m\u001b[0;34m:\u001b[0m\u001b[0;34m\u001b[0m\u001b[0;34m\u001b[0m\u001b[0m\n\u001b[0;32m--> 414\u001b[0;31m             \u001b[0;32mraise\u001b[0m \u001b[0mRuntimeError\u001b[0m\u001b[0;34m(\u001b[0m\u001b[0;34m'This event loop is already running'\u001b[0m\u001b[0;34m)\u001b[0m\u001b[0;34m\u001b[0m\u001b[0;34m\u001b[0m\u001b[0m\n\u001b[0m\u001b[1;32m    415\u001b[0m         \u001b[0;32mif\u001b[0m \u001b[0mevents\u001b[0m\u001b[0;34m.\u001b[0m\u001b[0m_get_running_loop\u001b[0m\u001b[0;34m(\u001b[0m\u001b[0;34m)\u001b[0m \u001b[0;32mis\u001b[0m \u001b[0;32mnot\u001b[0m \u001b[0;32mNone\u001b[0m\u001b[0;34m:\u001b[0m\u001b[0;34m\u001b[0m\u001b[0;34m\u001b[0m\u001b[0m\n\u001b[1;32m    416\u001b[0m             raise RuntimeError(\n",
      "\u001b[0;31mRuntimeError\u001b[0m: This event loop is already running"
     ]
    },
    {
     "name": "stdout",
     "output_type": "stream",
     "text": [
      "started at 21:57:00\n",
      "wait_1\n",
      "wait_2\n",
      "finished at 21:57:03\n",
      "wait_1\n",
      "wait_2\n",
      "finished at 21:57:05\n"
     ]
    }
   ],
   "source": [
    "import asyncio\n",
    "import time\n",
    "\n",
    "async def say_after(delay, what):\n",
    "    await asyncio.sleep(delay)\n",
    "    print(what)\n",
    "\n",
    "async def main():\n",
    "    print(f\"started at {time.strftime('%X')}\")\n",
    "    # sequential\n",
    "    await say_after(1, 'wait_1')\n",
    "    await say_after(2, 'wait_2')\n",
    "    print(f\"finished at {time.strftime('%X')}\")\n",
    "    # in parallel\n",
    "    await asyncio.gather(\n",
    "        say_after(1, 'wait_1'), say_after(2, 'wait_2'))\n",
    "    print(f\"finished at {time.strftime('%X')}\")\n",
    "\n",
    "# Python 3.7\n",
    "# asyncio.run(main())\n",
    "\n",
    "# Before Python 3.7\n",
    "loop = asyncio.get_event_loop()\n",
    "loop.run_until_complete(main())\n",
    "loop.close()"
   ]
  },
  {
   "cell_type": "markdown",
   "metadata": {},
   "source": [
    "Q19. Metaclasses"
   ]
  },
  {
   "cell_type": "code",
   "execution_count": 3,
   "metadata": {},
   "outputs": [
    {
     "name": "stdout",
     "output_type": "stream",
     "text": [
      "['height', 'width']\n"
     ]
    }
   ],
   "source": [
    "class Meta(type):\n",
    "    def __init__(cls, name, bases, dct):\n",
    "        for attr in dct['attrs']:\n",
    "            setattr(cls, attr, 0)\n",
    "        delattr(cls, 'attrs')\n",
    "\n",
    "class Square(metaclass=Meta):\n",
    "    attrs = ['height', 'width']\n",
    "\n",
    "s = Square()\n",
    "# print all the object attributes\n",
    "print([attr for attr in dir(s) if not attr.startswith('_')])\n",
    "# ['height', 'width']"
   ]
  },
  {
   "cell_type": "markdown",
   "metadata": {},
   "source": [
    "Q20. Class properties"
   ]
  },
  {
   "cell_type": "markdown",
   "metadata": {},
   "source": [
    "Q21. classmethod and abstractmethod"
   ]
  }
 ],
 "metadata": {
  "kernelspec": {
   "display_name": "Python 3",
   "language": "python",
   "name": "python3"
  },
  "language_info": {
   "codemirror_mode": {
    "name": "ipython",
    "version": 3
   },
   "file_extension": ".py",
   "mimetype": "text/x-python",
   "name": "python",
   "nbconvert_exporter": "python",
   "pygments_lexer": "ipython3",
   "version": "3.6.7"
  }
 },
 "nbformat": 4,
 "nbformat_minor": 2
}
