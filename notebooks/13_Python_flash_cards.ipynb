{
 "cells": [
  {
   "cell_type": "markdown",
   "metadata": {},
   "source": [
    "Q01. Strings: split join"
   ]
  },
  {
   "cell_type": "code",
   "execution_count": 28,
   "metadata": {},
   "outputs": [
    {
     "data": {
      "text/plain": [
       "['lock', 'stock', 'barrel']"
      ]
     },
     "execution_count": 28,
     "metadata": {},
     "output_type": "execute_result"
    }
   ],
   "source": [
    "str = 'lock stock barrel'\n",
    "words = str.split(' ')\n",
    "words\n",
    "# ['lock', 'stock', 'barrel']"
   ]
  },
  {
   "cell_type": "code",
   "execution_count": 29,
   "metadata": {},
   "outputs": [
    {
     "data": {
      "text/plain": [
       "'lock, stock, barrel'"
      ]
     },
     "execution_count": 29,
     "metadata": {},
     "output_type": "execute_result"
    }
   ],
   "source": [
    "', '.join(words)\n",
    "# ['lock', 'stock', 'barrel']"
   ]
  },
  {
   "cell_type": "markdown",
   "metadata": {},
   "source": [
    "Q02. Regular expressions"
   ]
  },
  {
   "cell_type": "code",
   "execution_count": 30,
   "metadata": {},
   "outputs": [
    {
     "name": "stdout",
     "output_type": "stream",
     "text": [
      "'ab' at 0:2\n",
      "'ab' at 5:7\n"
     ]
    }
   ],
   "source": [
    "'''\n",
    "('ab*', 'a followed by zero or more b'),\n",
    "('ab+', 'a followed by one or more b'),\n",
    "('ab?', 'a followed by zero or one b'),\n",
    "('ab{3}', 'a followed by three b'),\n",
    "('ab{2,3}', 'a followed by two to three b')\n",
    "'''\n",
    "\n",
    "import re\n",
    "text = 'abbaaabbbbaaaaa'\n",
    "pat = 'ab'  # pattern\n",
    "\n",
    "for match in re.finditer(pat, text):\n",
    "    s = match.start()\n",
    "    e = match.end()\n",
    "    print('{!r} at {:d}:{:d}'.format(\n",
    "        text[s:e], s, e))\n",
    "# 'ab' at 0:2\n",
    "# 'ab' at 5:7"
   ]
  },
  {
   "cell_type": "markdown",
   "metadata": {},
   "source": [
    "Q03. Enumerations"
   ]
  },
  {
   "cell_type": "code",
   "execution_count": 32,
   "metadata": {},
   "outputs": [
    {
     "data": {
      "text/plain": [
       "[('wont_fix', 1), ('closed', 2), ('new', 3)]"
      ]
     },
     "execution_count": 32,
     "metadata": {},
     "output_type": "execute_result"
    }
   ],
   "source": [
    "import enum\n",
    "\n",
    "class BugStatus(enum.Enum):\n",
    "    new = 3\n",
    "    invalid = 2\n",
    "    wont_fix = 1\n",
    "    \n",
    "[(st.name, st.value) for st in BugStatus]\n",
    "\n",
    "# TypeError: '<' not supported between\n",
    "# instances of 'BugStatus' and 'BugStatus'\n",
    "# [st.value for st in sorted(BugStatus)]\n",
    "\n",
    "class BugStatusInt(enum.IntEnum):\n",
    "    new = 3\n",
    "    invalid = 2\n",
    "    wont_fix = 1\n",
    "\n",
    "# works fine\n",
    "[st.value for st in sorted(BugStatusInt)]\n",
    "\n",
    "# dynamically create enum\n",
    "BugStatus = enum.Enum(\n",
    "    value='BugStatus',\n",
    "    names=('wont_fix closed new'))\n",
    "\n",
    "[(st.name, st.value) for st in BugStatus]\n",
    "# [('wont_fix', 1), ('closed', 2), ('new', 3)]"
   ]
  },
  {
   "cell_type": "markdown",
   "metadata": {},
   "source": [
    "Q04. Collections - ChainMap"
   ]
  },
  {
   "cell_type": "code",
   "execution_count": 33,
   "metadata": {},
   "outputs": [
    {
     "data": {
      "text/plain": [
       "[('c', 'C'), ('b', 'B'), ('a', 'A')]"
      ]
     },
     "execution_count": 33,
     "metadata": {},
     "output_type": "execute_result"
    }
   ],
   "source": [
    "import collections\n",
    "\n",
    "a = {'a': 'A', 'c': 'C'}\n",
    "b = {'b': 'B', 'c': 'D'}\n",
    "\n",
    "# search through dictionaries\n",
    "# in order\n",
    "m = collections.ChainMap(a, b)\n",
    "\n",
    "[(k, v) for k, v in m.items()]\n",
    "# [('c', 'C'), ('b', 'B'), ('a', 'A')]"
   ]
  },
  {
   "cell_type": "markdown",
   "metadata": {},
   "source": [
    "Q05. Collections - Counter"
   ]
  },
  {
   "cell_type": "markdown",
   "metadata": {},
   "source": [
    "Q06. Collections - defaultdict"
   ]
  },
  {
   "cell_type": "markdown",
   "metadata": {},
   "source": [
    "Q07. Collections - deque"
   ]
  },
  {
   "cell_type": "markdown",
   "metadata": {},
   "source": [
    "Q08. Collections - namedtuple"
   ]
  },
  {
   "cell_type": "markdown",
   "metadata": {},
   "source": [
    "Q09. Collections - OrderedDict"
   ]
  },
  {
   "cell_type": "markdown",
   "metadata": {},
   "source": [
    "Q10. bisect"
   ]
  },
  {
   "cell_type": "markdown",
   "metadata": {},
   "source": [
    "Q11. queue"
   ]
  },
  {
   "cell_type": "markdown",
   "metadata": {},
   "source": [
    "Q12. copy"
   ]
  },
  {
   "cell_type": "markdown",
   "metadata": {},
   "source": [
    "Q13. functools"
   ]
  },
  {
   "cell_type": "markdown",
   "metadata": {},
   "source": [
    "Q14. itertools"
   ]
  },
  {
   "cell_type": "markdown",
   "metadata": {},
   "source": [
    "Q15. operator"
   ]
  },
  {
   "cell_type": "markdown",
   "metadata": {},
   "source": [
    "Q16. contextlib"
   ]
  },
  {
   "cell_type": "code",
   "execution_count": 39,
   "metadata": {},
   "outputs": [],
   "source": [
    "import time"
   ]
  },
  {
   "cell_type": "code",
   "execution_count": 41,
   "metadata": {},
   "outputs": [
    {
     "data": {
      "text/plain": [
       "float"
      ]
     },
     "execution_count": 41,
     "metadata": {},
     "output_type": "execute_result"
    }
   ],
   "source": [
    "time.time()"
   ]
  },
  {
   "cell_type": "code",
   "execution_count": null,
   "metadata": {},
   "outputs": [],
   "source": []
  }
 ],
 "metadata": {
  "kernelspec": {
   "display_name": "Python 3",
   "language": "python",
   "name": "python3"
  },
  "language_info": {
   "codemirror_mode": {
    "name": "ipython",
    "version": 3
   },
   "file_extension": ".py",
   "mimetype": "text/x-python",
   "name": "python",
   "nbconvert_exporter": "python",
   "pygments_lexer": "ipython3",
   "version": "3.6.7"
  }
 },
 "nbformat": 4,
 "nbformat_minor": 2
}
