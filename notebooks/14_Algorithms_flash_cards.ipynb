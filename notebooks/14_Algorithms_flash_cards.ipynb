{
 "cells": [
  {
   "cell_type": "markdown",
   "metadata": {},
   "source": [
    "Q01 Bubble sort algorithm"
   ]
  },
  {
   "cell_type": "markdown",
   "metadata": {},
   "source": [
    "Worst case: O(n^2) comparisons, O(n^2) swaps\n",
    "\n",
    "Average: O(n^2) comparisons, O(n^2) swaps\n",
    "\n",
    "Best: O(n) comparisons, $O(1) swaps"
   ]
  },
  {
   "cell_type": "markdown",
   "metadata": {},
   "source": [
    "Q02 Selection sort algorithm"
   ]
  },
  {
   "cell_type": "markdown",
   "metadata": {},
   "source": [
    "Worst case: O(n^2) comparisons, O(n) swaps\n",
    "\n",
    "Average: O(n^2) comparisons, O(n) swaps\n",
    "\n",
    "Best: O(n^2) comparisons, O(n) swaps\n",
    "\n",
    "Used when swaps are expensive"
   ]
  },
  {
   "cell_type": "markdown",
   "metadata": {},
   "source": [
    "Q03 Insertion sort algorithm"
   ]
  },
  {
   "cell_type": "markdown",
   "metadata": {},
   "source": [
    "Worst case: O(n^2) comparisons, O(n^2) swaps\n",
    "\n",
    "Average: O(n^2) comparisons, O(n^2) swaps\n",
    "\n",
    "Best: O(n) comparisons, O(1) swaps\n",
    "\n",
    "Simple implementation\n",
    "\n",
    "Efficient for data sets that are substantially sorted"
   ]
  },
  {
   "cell_type": "markdown",
   "metadata": {},
   "source": [
    "Q04 Quicksort sort algorithm"
   ]
  },
  {
   "cell_type": "markdown",
   "metadata": {},
   "source": [
    "Worst case: O(n^2) comparisons\n",
    "\n",
    "Average: O(n log n) comparisons\n",
    "\n",
    "Best: O(n log n) simple partition, O(n) 3-way partition\n",
    "\n",
    "Efficient\n",
    "\n",
    "In-place"
   ]
  },
  {
   "cell_type": "markdown",
   "metadata": {},
   "source": [
    "Q05 Merge sort algorithm"
   ]
  },
  {
   "cell_type": "markdown",
   "metadata": {},
   "source": [
    "Worst case: O(n log n) comparisons\n",
    "\n",
    "Average: O(n log n) comparisons\n",
    "\n",
    "Best: O(n log n) typical, O(n) natural variant\n",
    "\n",
    "Efficient, better than quick sort worst case\n",
    "\n",
    "Needs O(n) as not in-place sort"
   ]
  },
  {
   "cell_type": "markdown",
   "metadata": {},
   "source": [
    "Q06 Binary search algorithm"
   ]
  },
  {
   "cell_type": "markdown",
   "metadata": {},
   "source": [
    "Worst case: O(log n) comparisons\n",
    "\n",
    "Average: O(log n) comparisons\n",
    "\n",
    "Best: O(1)"
   ]
  },
  {
   "cell_type": "markdown",
   "metadata": {},
   "source": [
    "Q07 Binary search tree data structure"
   ]
  },
  {
   "cell_type": "markdown",
   "metadata": {},
   "source": [
    "Sorted binary trees is a data structure with keys in sorted order. It allows fast lookup, insertion and deletion of items.\n",
    "\n",
    "Algorithm, Average, Worst\n",
    "\n",
    "Search O(log n) O(n)\n",
    "\n",
    "Insert O(log n) O(n)\n",
    "\n",
    "Delete O(log n) O(n)"
   ]
  },
  {
   "cell_type": "markdown",
   "metadata": {},
   "source": [
    "Q08 B-tree data structure"
   ]
  },
  {
   "cell_type": "markdown",
   "metadata": {},
   "source": [
    "Self-balancing tree data structure that maintains sorted data and allows searches, sequential access, insertions, and deletions in logarithmic time. A node can have more than two children.\n",
    "\n",
    "Algorithm, Average, Worst\n",
    "\n",
    "Search O(log n) O(log n)\n",
    "\n",
    "Insert O(log n) O(log n)\n",
    "\n",
    "Delete O(log n) O(log n)"
   ]
  },
  {
   "cell_type": "markdown",
   "metadata": {},
   "source": [
    "Q09 Red-black tree structure"
   ]
  },
  {
   "cell_type": "markdown",
   "metadata": {},
   "source": [
    "A red–black tree is a kind of self-balancing binary search tree. Each node of the binary tree has an extra bit, and that bit is often interpreted as the color (red or black) of the node. These color bits are used to ensure the tree remains approximately balanced during insertions and deletions.\n",
    "\n",
    "Algorithm, Average, Worst\n",
    "\n",
    "Search O(log n) O(log n)\n",
    "\n",
    "Insert O(log n) O(log n)\n",
    "\n",
    "Delete O(log n) O(log n)"
   ]
  },
  {
   "cell_type": "markdown",
   "metadata": {},
   "source": [
    "Q10 Bloom filter data structure"
   ]
  },
  {
   "cell_type": "markdown",
   "metadata": {},
   "source": [
    "A Bloom filter is a space-efficient probabilistic data structure, that is used to test whether an element is a member of a set. False positive matches are possible, but false negatives are not"
   ]
  }
 ],
 "metadata": {
  "kernelspec": {
   "display_name": "Python 3",
   "language": "python",
   "name": "python3"
  },
  "language_info": {
   "codemirror_mode": {
    "name": "ipython",
    "version": 3
   },
   "file_extension": ".py",
   "mimetype": "text/x-python",
   "name": "python",
   "nbconvert_exporter": "python",
   "pygments_lexer": "ipython3",
   "version": "3.6.7"
  }
 },
 "nbformat": 4,
 "nbformat_minor": 2
}
