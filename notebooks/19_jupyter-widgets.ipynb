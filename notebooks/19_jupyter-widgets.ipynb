{
 "cells": [
  {
   "cell_type": "markdown",
   "metadata": {},
   "source": [
    "Example of Jupyter widgets"
   ]
  },
  {
   "cell_type": "code",
   "execution_count": null,
   "metadata": {},
   "outputs": [],
   "source": [
    "import pandas as pd\n",
    "import random\n",
    "from faker import Faker\n",
    "\n",
    "import ipywidgets as widgets\n",
    "from IPython.display import display"
   ]
  },
  {
   "cell_type": "code",
   "execution_count": null,
   "metadata": {},
   "outputs": [],
   "source": [
    "fake = Faker()\n",
    "\n",
    "\n",
    "def create_rows(num=1):\n",
    "    output = [{\n",
    "        \"name\": fake.name(),\n",
    "        \"address\": fake.address(),\n",
    "        \"email\": fake.email(),\n",
    "        \"bs\": fake.bs(),\n",
    "        \"city\": fake.city(),\n",
    "        \"state\": fake.state(),\n",
    "        \"date_time\": fake.date_time(),\n",
    "        \"randomdata\": random.randint(1000, 2000)\n",
    "    } for x in range(num)]\n",
    "    return output"
   ]
  },
  {
   "cell_type": "markdown",
   "metadata": {},
   "source": [
    "Create a dataframe with 500 rows"
   ]
  },
  {
   "cell_type": "code",
   "execution_count": null,
   "metadata": {},
   "outputs": [],
   "source": [
    "df = pd.DataFrame(create_rows(500))"
   ]
  },
  {
   "cell_type": "markdown",
   "metadata": {},
   "source": [
    "Display the first few rows"
   ]
  },
  {
   "cell_type": "code",
   "execution_count": null,
   "metadata": {},
   "outputs": [],
   "source": [
    "# df.head()"
   ]
  },
  {
   "cell_type": "markdown",
   "metadata": {},
   "source": [
    "Choose the state initial"
   ]
  },
  {
   "cell_type": "code",
   "execution_count": null,
   "metadata": {},
   "outputs": [],
   "source": [
    "state_initial = sorted(df.state.str.slice(0, 1).unique())\n",
    "\n",
    "# @interact\n",
    "# def choose_state_initial(state_initial=state_initial):\n",
    "#     return df[df.state.str.slice(0, 1) == state_initial].head()\n",
    "\n",
    "\n",
    "def choose_state_initial_widget(state_initial):\n",
    "    return widgets.Dropdown(\n",
    "        options=state_initial,\n",
    "        description='State inital :',\n",
    "    )\n",
    "\n",
    "\n",
    "def choose_state_initial_handler(change):\n",
    "    if change['name'] == 'value':\n",
    "        new_initial = change['new']\n",
    "        selected_states = [\n",
    "            state for state in sorted(\n",
    "                df.state.unique()) if state.startswith(new_initial)]\n",
    "        state_widget.value = selected_states[0]\n",
    "\n",
    "\n",
    "state_initial_widget = choose_state_initial_widget(state_initial)\n",
    "state_initial_widget.observe(choose_state_initial_handler)"
   ]
  },
  {
   "cell_type": "markdown",
   "metadata": {},
   "source": [
    "Choose the state"
   ]
  },
  {
   "cell_type": "code",
   "execution_count": null,
   "metadata": {},
   "outputs": [],
   "source": [
    "non_state_columns = [\n",
    "    col_name for col_name in df.columns if col_name not in ['state']]\n",
    "state_list = sorted(df.state.unique())\n",
    "\n",
    "# @interact\n",
    "# def choose_state(state=state_list):\n",
    "#     return df[non_state_columns][df.state == state].head()\n",
    "\n",
    "\n",
    "def choose_state_widget(state=state_list):\n",
    "    return widgets.Dropdown(\n",
    "        options=state,\n",
    "        description='State :',\n",
    "    )\n",
    "\n",
    "\n",
    "state_out = widgets.Output()\n",
    "\n",
    "\n",
    "def choose_state_handler(change):\n",
    "    if change['name'] == 'value':\n",
    "        with state_out:\n",
    "            new_state = change['new']\n",
    "            state_out.clear_output()\n",
    "            display(df[df.state == new_state])\n",
    "\n",
    "\n",
    "state_widget = choose_state_widget(state_list)\n",
    "state_widget.observe(choose_state_handler)"
   ]
  },
  {
   "cell_type": "code",
   "execution_count": null,
   "metadata": {},
   "outputs": [],
   "source": [
    "display(state_initial_widget)\n",
    "display(state_widget)\n",
    "display(state_out)"
   ]
  }
 ],
 "metadata": {
  "kernelspec": {
   "display_name": "Python 3",
   "language": "python",
   "name": "python3"
  }
 },
 "nbformat": 4,
 "nbformat_minor": 2
}
